{
  "cells": [
    {
      "cell_type": "markdown",
      "id": "frozen-passport",
      "metadata": {
        "id": "frozen-passport"
      },
      "source": [
        "# Activity 1.3 : Regularization"
      ]
    },
    {
      "cell_type": "markdown",
      "id": "downtown-relay",
      "metadata": {
        "id": "downtown-relay"
      },
      "source": [
        "#### Objective(s):\n",
        "\n",
        "This activity aims to demonstrate how to apply  regularization in neural networks"
      ]
    },
    {
      "cell_type": "markdown",
      "id": "weird-journal",
      "metadata": {
        "id": "weird-journal"
      },
      "source": [
        "#### Intended Learning Outcomes (ILOs):\n",
        "* Demonstrate how to build and train neural networks with regularization\n",
        "* Demonstrate how to visualize the model with regularization\n",
        "* Evaluate the result of model with regularization\n"
      ]
    },
    {
      "cell_type": "markdown",
      "id": "returning-harvard",
      "metadata": {
        "id": "returning-harvard"
      },
      "source": [
        "#### Resources:\n",
        "* Jupyter Notebook\n",
        "* MNIST\n"
      ]
    },
    {
      "cell_type": "markdown",
      "id": "virgin-webcam",
      "metadata": {
        "id": "virgin-webcam"
      },
      "source": [
        "#### Procedures\n",
        "Load the necessary libraries"
      ]
    },
    {
      "cell_type": "code",
      "execution_count": null,
      "id": "changing-emergency",
      "metadata": {
        "id": "changing-emergency"
      },
      "outputs": [],
      "source": [
        "from __future__ import print_function\n",
        "\n",
        "import keras\n",
        "from keras.datasets import mnist\n",
        "from keras.models import Sequential\n",
        "from keras.layers import Dense, Dropout\n",
        "from keras.optimizers import RMSprop\n",
        "\n",
        "import numpy as np\n",
        "import matplotlib.pyplot as plt\n",
        "%matplotlib inline"
      ]
    },
    {
      "cell_type": "markdown",
      "id": "central-drama",
      "metadata": {
        "id": "central-drama"
      },
      "source": [
        "Load the data, shuffled and split between train and test sets"
      ]
    },
    {
      "cell_type": "code",
      "execution_count": null,
      "id": "egyptian-driving",
      "metadata": {
        "id": "egyptian-driving",
        "colab": {
          "base_uri": "https://localhost:8080/"
        },
        "outputId": "d9b58a2c-51db-4897-e765-872d27ef50d3"
      },
      "outputs": [
        {
          "output_type": "stream",
          "name": "stdout",
          "text": [
            "Downloading data from https://storage.googleapis.com/tensorflow/tf-keras-datasets/mnist.npz\n",
            "11490434/11490434 [==============================] - 0s 0us/step\n"
          ]
        }
      ],
      "source": [
        "(x_train, y_train), (x_test, y_test) = mnist.load_data()"
      ]
    },
    {
      "cell_type": "markdown",
      "id": "creative-cricket",
      "metadata": {
        "id": "creative-cricket"
      },
      "source": [
        "Get the size of the sample train data"
      ]
    },
    {
      "cell_type": "code",
      "execution_count": null,
      "id": "instrumental-funds",
      "metadata": {
        "id": "instrumental-funds",
        "colab": {
          "base_uri": "https://localhost:8080/"
        },
        "outputId": "b87d0c16-e9bf-4415-d379-b0fcefff1b62"
      },
      "outputs": [
        {
          "output_type": "execute_result",
          "data": {
            "text/plain": [
              "(28, 28)"
            ]
          },
          "metadata": {},
          "execution_count": 3
        }
      ],
      "source": [
        "x_train[0].shape"
      ]
    },
    {
      "cell_type": "markdown",
      "id": "atmospheric-carol",
      "metadata": {
        "id": "atmospheric-carol"
      },
      "source": [
        "Check the sample train data"
      ]
    },
    {
      "cell_type": "code",
      "execution_count": null,
      "id": "mental-johnston",
      "metadata": {
        "id": "mental-johnston",
        "colab": {
          "base_uri": "https://localhost:8080/",
          "height": 67
        },
        "outputId": "60385e49-741f-43ce-8728-279f150fe9b2"
      },
      "outputs": [
        {
          "output_type": "execute_result",
          "data": {
            "text/plain": [
              "array([[  0,   0,   0,   0,   0,   0,   0,   0,   0,   0,   0,   0,   0,\n",
              "          0,   0,   0,   0,   0,   0,   0,   0,   0,   0,   0,   0,   0,\n",
              "          0,   0],\n",
              "       [  0,   0,   0,   0,   0,   0,   0,   0,   0,   0,   0,   0,   0,\n",
              "          0,   0,   0,   0,   0,   0,   0,   0,   0,   0,   0,   0,   0,\n",
              "          0,   0],\n",
              "       [  0,   0,   0,   0,   0,   0,   0,   0,   0,   0,   0,   0,   0,\n",
              "          0,   0,   0,   0,   0,   0,   0,   0,   0,   0,   0,   0,   0,\n",
              "          0,   0],\n",
              "       [  0,   0,   0,   0,   0,   0,   0,   0,   0,   0,   0,   0,   0,\n",
              "          0,   0,   0,   0,   0,   0,   0,   0,   0,   0,   0,   0,   0,\n",
              "          0,   0],\n",
              "       [  0,   0,   0,   0,   0,   0,   0,   0,   0,   0,   0,   0,   0,\n",
              "          0,   0,   0,   0,   0,   0,   0,   0,   0,   0,   0,   0,   0,\n",
              "          0,   0],\n",
              "       [  0,   0,   0,   0,   0,   0,   0,   0,   0,   0,   0,  87, 138,\n",
              "        170, 253, 201, 244, 212, 222, 138,  86,  22,   0,   0,   0,   0,\n",
              "          0,   0],\n",
              "       [  0,   0,   0,   0,   0,   0,   0,   0,   0,   0,  95, 253, 252,\n",
              "        252, 252, 252, 253, 252, 252, 252, 252, 245,  80,   0,   0,   0,\n",
              "          0,   0],\n",
              "       [  0,   0,   0,   0,   0,   0,   0,   0,   0,  68, 246, 205,  69,\n",
              "         69,  69,  69,  69,  69,  69,  69, 205, 253, 240,  50,   0,   0,\n",
              "          0,   0],\n",
              "       [  0,   0,   0,   0,   0,   0,   0,   0,   0, 187, 252, 218,  34,\n",
              "          0,   0,   0,   0,   0,   0,   0, 116, 253, 252,  69,   0,   0,\n",
              "          0,   0],\n",
              "       [  0,   0,   0,   0,   0,   0,   0,   0, 116, 248, 252, 253,  92,\n",
              "          0,   0,   0,   0,   0,   0,  95, 230, 253, 157,   6,   0,   0,\n",
              "          0,   0],\n",
              "       [  0,   0,   0,   0,   0,   0,   0,   0, 116, 249, 253, 189,  42,\n",
              "          0,   0,   0,   0,  36, 170, 253, 243, 158,   0,   0,   0,   0,\n",
              "          0,   0],\n",
              "       [  0,   0,   0,   0,   0,   0,   0,   0,   0, 133, 252, 245, 140,\n",
              "         34,   0,   0,  57, 219, 252, 235,  60,   0,   0,   0,   0,   0,\n",
              "          0,   0],\n",
              "       [  0,   0,   0,   0,   0,   0,   0,   0,   0,  25, 205, 253, 252,\n",
              "        234, 184, 184, 253, 240, 100,  44,   0,   0,   0,   0,   0,   0,\n",
              "          0,   0],\n",
              "       [  0,   0,   0,   0,   0,   0,   0,   0,   0,   0,  21, 161, 219,\n",
              "        252, 252, 252, 234,  37,   0,   0,   0,   0,   0,   0,   0,   0,\n",
              "          0,   0],\n",
              "       [  0,   0,   0,   0,   0,   0,   0,   0,   0,   0,   0,  11, 203,\n",
              "        252, 252, 252, 251, 135,   0,   0,   0,   0,   0,   0,   0,   0,\n",
              "          0,   0],\n",
              "       [  0,   0,   0,   0,   0,   0,   0,   0,   0,   9,  76, 255, 253,\n",
              "        205, 168, 220, 255, 253, 137,   5,   0,   0,   0,   0,   0,   0,\n",
              "          0,   0],\n",
              "       [  0,   0,   0,   0,   0,   0,   0,   0,   0, 114, 252, 249, 132,\n",
              "         25,   0,   0, 180, 252, 252,  45,   0,   0,   0,   0,   0,   0,\n",
              "          0,   0],\n",
              "       [  0,   0,   0,   0,   0,   0,   0,   0,  51, 220, 252, 199,   0,\n",
              "          0,   0,   0,  38, 186, 252, 154,   7,   0,   0,   0,   0,   0,\n",
              "          0,   0],\n",
              "       [  0,   0,   0,   0,   0,   0,   0,   0, 184, 252, 252,  21,   0,\n",
              "          0,   0,   0,   0,  67, 252, 252,  22,   0,   0,   0,   0,   0,\n",
              "          0,   0],\n",
              "       [  0,   0,   0,   0,   0,   0,   0,   0, 184, 252, 200,   0,   0,\n",
              "          0,   0,   0,   0,  47, 252, 252,  22,   0,   0,   0,   0,   0,\n",
              "          0,   0],\n",
              "       [  0,   0,   0,   0,   0,   0,   0,   0, 185, 253, 201,   0,   0,\n",
              "          0,   0,   0,   3, 118, 253, 245,  21,   0,   0,   0,   0,   0,\n",
              "          0,   0],\n",
              "       [  0,   0,   0,   0,   0,   0,   0,   0, 163, 252, 252,   0,   0,\n",
              "          0,   0,   0,  97, 252, 252,  87,   0,   0,   0,   0,   0,   0,\n",
              "          0,   0],\n",
              "       [  0,   0,   0,   0,   0,   0,   0,   0,  51, 240, 252, 123,  70,\n",
              "         70, 112, 184, 222, 252, 170,  13,   0,   0,   0,   0,   0,   0,\n",
              "          0,   0],\n",
              "       [  0,   0,   0,   0,   0,   0,   0,   0,   0, 165, 252, 253, 252,\n",
              "        252, 252, 252, 245, 139,  13,   0,   0,   0,   0,   0,   0,   0,\n",
              "          0,   0],\n",
              "       [  0,   0,   0,   0,   0,   0,   0,   0,   0,   9,  75, 253, 252,\n",
              "        221, 137, 137,  21,   0,   0,   0,   0,   0,   0,   0,   0,   0,\n",
              "          0,   0],\n",
              "       [  0,   0,   0,   0,   0,   0,   0,   0,   0,   0,   0,   0,   0,\n",
              "          0,   0,   0,   0,   0,   0,   0,   0,   0,   0,   0,   0,   0,\n",
              "          0,   0],\n",
              "       [  0,   0,   0,   0,   0,   0,   0,   0,   0,   0,   0,   0,   0,\n",
              "          0,   0,   0,   0,   0,   0,   0,   0,   0,   0,   0,   0,   0,\n",
              "          0,   0],\n",
              "       [  0,   0,   0,   0,   0,   0,   0,   0,   0,   0,   0,   0,   0,\n",
              "          0,   0,   0,   0,   0,   0,   0,   0,   0,   0,   0,   0,   0,\n",
              "          0,   0]], dtype=uint8)"
            ],
            "text/html": [
              "<style>\n",
              "      .ndarray_repr .ndarray_raw_data {\n",
              "        display: none;\n",
              "      }\n",
              "      .ndarray_repr.show_array .ndarray_raw_data {\n",
              "        display: block;\n",
              "      }\n",
              "      .ndarray_repr.show_array .ndarray_image_preview {\n",
              "        display: none;\n",
              "      }\n",
              "      </style>\n",
              "      <div id=\"id-c1d76793-9215-4bb3-961f-5309b28a5b6e\" class=\"ndarray_repr\"><pre>ndarray (28, 28) <button style=\"padding: 0 2px;\">show data</button></pre><img src=\"data:image/png;base64,iVBORw0KGgoAAAANSUhEUgAAABwAAAAcCAAAAABXZoBIAAABJElEQVR4nM2RO0sDURCFz/qIRE0lK6QTUQsfGEglWKnEQgvBIo0ggj9ARFCwVXTRXyAoiAgSrMRiEQQ7Cze2FnlgZbGxCISAi2dYiyyJufeWFk51mG/mMIcB/llZv3Q2PbTqTbz33npPvjq3LiQpJFlfUTYX7t72Inmcqs29Auhqwt1YolRuyOlU/0Cb6c4XZS3y/5DzWDsM5HEcAEZyUrtQ7zlk/XQYmCmwMquFSuaFvutKdXPSENm+LJD0Rw0IQN8Lye8jE4ovh5K/KYbidOtwm8FBErgnpzSWLvIZAMYeeNajQpe0AQDz5GDU62hhrwIA+Gx1mtCyGj/oXLSCULW9IgEAG2RWP6jK/Uxmyy0zl9CjXEd/PjEwxJeEJcexDeiP6wefW3R9pZ+EHwAAAABJRU5ErkJggg==\" class=\"ndarray_image_preview\" /><pre class=\"ndarray_raw_data\">array([[  0,   0,   0,   0,   0,   0,   0,   0,   0,   0,   0,   0,   0,\n",
              "          0,   0,   0,   0,   0,   0,   0,   0,   0,   0,   0,   0,   0,\n",
              "          0,   0],\n",
              "       [  0,   0,   0,   0,   0,   0,   0,   0,   0,   0,   0,   0,   0,\n",
              "          0,   0,   0,   0,   0,   0,   0,   0,   0,   0,   0,   0,   0,\n",
              "          0,   0],\n",
              "       [  0,   0,   0,   0,   0,   0,   0,   0,   0,   0,   0,   0,   0,\n",
              "          0,   0,   0,   0,   0,   0,   0,   0,   0,   0,   0,   0,   0,\n",
              "          0,   0],\n",
              "       [  0,   0,   0,   0,   0,   0,   0,   0,   0,   0,   0,   0,   0,\n",
              "          0,   0,   0,   0,   0,   0,   0,   0,   0,   0,   0,   0,   0,\n",
              "          0,   0],\n",
              "       [  0,   0,   0,   0,   0,   0,   0,   0,   0,   0,   0,   0,   0,\n",
              "          0,   0,   0,   0,   0,   0,   0,   0,   0,   0,   0,   0,   0,\n",
              "          0,   0],\n",
              "       [  0,   0,   0,   0,   0,   0,   0,   0,   0,   0,   0,  87, 138,\n",
              "        170, 253, 201, 244, 212, 222, 138,  86,  22,   0,   0,   0,   0,\n",
              "          0,   0],\n",
              "       [  0,   0,   0,   0,   0,   0,   0,   0,   0,   0,  95, 253, 252,\n",
              "        252, 252, 252, 253, 252, 252, 252, 252, 245,  80,   0,   0,   0,\n",
              "          0,   0],\n",
              "       [  0,   0,   0,   0,   0,   0,   0,   0,   0,  68, 246, 205,  69,\n",
              "         69,  69,  69,  69,  69,  69,  69, 205, 253, 240,  50,   0,   0,\n",
              "          0,   0],\n",
              "       [  0,   0,   0,   0,   0,   0,   0,   0,   0, 187, 252, 218,  34,\n",
              "          0,   0,   0,   0,   0,   0,   0, 116, 253, 252,  69,   0,   0,\n",
              "          0,   0],\n",
              "       [  0,   0,   0,   0,   0,   0,   0,   0, 116, 248, 252, 253,  92,\n",
              "          0,   0,   0,   0,   0,   0,  95, 230, 253, 157,   6,   0,   0,\n",
              "          0,   0],\n",
              "       [  0,   0,   0,   0,   0,   0,   0,   0, 116, 249, 253, 189,  42,\n",
              "          0,   0,   0,   0,  36, 170, 253, 243, 158,   0,   0,   0,   0,\n",
              "          0,   0],\n",
              "       [  0,   0,   0,   0,   0,   0,   0,   0,   0, 133, 252, 245, 140,\n",
              "         34,   0,   0,  57, 219, 252, 235,  60,   0,   0,   0,   0,   0,\n",
              "          0,   0],\n",
              "       [  0,   0,   0,   0,   0,   0,   0,   0,   0,  25, 205, 253, 252,\n",
              "        234, 184, 184, 253, 240, 100,  44,   0,   0,   0,   0,   0,   0,\n",
              "          0,   0],\n",
              "       [  0,   0,   0,   0,   0,   0,   0,   0,   0,   0,  21, 161, 219,\n",
              "        252, 252, 252, 234,  37,   0,   0,   0,   0,   0,   0,   0,   0,\n",
              "          0,   0],\n",
              "       [  0,   0,   0,   0,   0,   0,   0,   0,   0,   0,   0,  11, 203,\n",
              "        252, 252, 252, 251, 135,   0,   0,   0,   0,   0,   0,   0,   0,\n",
              "          0,   0],\n",
              "       [  0,   0,   0,   0,   0,   0,   0,   0,   0,   9,  76, 255, 253,\n",
              "        205, 168, 220, 255, 253, 137,   5,   0,   0,   0,   0,   0,   0,\n",
              "          0,   0],\n",
              "       [  0,   0,   0,   0,   0,   0,   0,   0,   0, 114, 252, 249, 132,\n",
              "         25,   0,   0, 180, 252, 252,  45,   0,   0,   0,   0,   0,   0,\n",
              "          0,   0],\n",
              "       [  0,   0,   0,   0,   0,   0,   0,   0,  51, 220, 252, 199,   0,\n",
              "          0,   0,   0,  38, 186, 252, 154,   7,   0,   0,   0,   0,   0,\n",
              "          0,   0],\n",
              "       [  0,   0,   0,   0,   0,   0,   0,   0, 184, 252, 252,  21,   0,\n",
              "          0,   0,   0,   0,  67, 252, 252,  22,   0,   0,   0,   0,   0,\n",
              "          0,   0],\n",
              "       [  0,   0,   0,   0,   0,   0,   0,   0, 184, 252, 200,   0,   0,\n",
              "          0,   0,   0,   0,  47, 252, 252,  22,   0,   0,   0,   0,   0,\n",
              "          0,   0],\n",
              "       [  0,   0,   0,   0,   0,   0,   0,   0, 185, 253, 201,   0,   0,\n",
              "          0,   0,   0,   3, 118, 253, 245,  21,   0,   0,   0,   0,   0,\n",
              "          0,   0],\n",
              "       [  0,   0,   0,   0,   0,   0,   0,   0, 163, 252, 252,   0,   0,\n",
              "          0,   0,   0,  97, 252, 252,  87,   0,   0,   0,   0,   0,   0,\n",
              "          0,   0],\n",
              "       [  0,   0,   0,   0,   0,   0,   0,   0,  51, 240, 252, 123,  70,\n",
              "         70, 112, 184, 222, 252, 170,  13,   0,   0,   0,   0,   0,   0,\n",
              "          0,   0],\n",
              "       [  0,   0,   0,   0,   0,   0,   0,   0,   0, 165, 252, 253, 252,\n",
              "        252, 252, 252, 245, 139,  13,   0,   0,   0,   0,   0,   0,   0,\n",
              "          0,   0],\n",
              "       [  0,   0,   0,   0,   0,   0,   0,   0,   0,   9,  75, 253, 252,\n",
              "        221, 137, 137,  21,   0,   0,   0,   0,   0,   0,   0,   0,   0,\n",
              "          0,   0],\n",
              "       [  0,   0,   0,   0,   0,   0,   0,   0,   0,   0,   0,   0,   0,\n",
              "          0,   0,   0,   0,   0,   0,   0,   0,   0,   0,   0,   0,   0,\n",
              "          0,   0],\n",
              "       [  0,   0,   0,   0,   0,   0,   0,   0,   0,   0,   0,   0,   0,\n",
              "          0,   0,   0,   0,   0,   0,   0,   0,   0,   0,   0,   0,   0,\n",
              "          0,   0],\n",
              "       [  0,   0,   0,   0,   0,   0,   0,   0,   0,   0,   0,   0,   0,\n",
              "          0,   0,   0,   0,   0,   0,   0,   0,   0,   0,   0,   0,   0,\n",
              "          0,   0]], dtype=uint8)</pre></div><script>\n",
              "      (() => {\n",
              "      const titles = ['show data', 'hide data'];\n",
              "      let index = 0\n",
              "      document.querySelector('#id-c1d76793-9215-4bb3-961f-5309b28a5b6e button').onclick = (e) => {\n",
              "        document.querySelector('#id-c1d76793-9215-4bb3-961f-5309b28a5b6e').classList.toggle('show_array');\n",
              "        index = (++index) % 2;\n",
              "        document.querySelector('#id-c1d76793-9215-4bb3-961f-5309b28a5b6e button').textContent = titles[index];\n",
              "        e.preventDefault();\n",
              "        e.stopPropagation();\n",
              "      }\n",
              "      })();\n",
              "    </script>"
            ]
          },
          "metadata": {},
          "execution_count": 4
        }
      ],
      "source": [
        "x_train[333]"
      ]
    },
    {
      "cell_type": "markdown",
      "id": "compact-disposal",
      "metadata": {
        "id": "compact-disposal"
      },
      "source": [
        "Check the corresponding label in the training set"
      ]
    },
    {
      "cell_type": "code",
      "execution_count": null,
      "id": "cutting-gentleman",
      "metadata": {
        "id": "cutting-gentleman",
        "colab": {
          "base_uri": "https://localhost:8080/"
        },
        "outputId": "4da25d6e-957c-4b16-e859-85848db45497"
      },
      "outputs": [
        {
          "output_type": "execute_result",
          "data": {
            "text/plain": [
              "8"
            ]
          },
          "metadata": {},
          "execution_count": 5
        }
      ],
      "source": [
        "\n",
        "y_train[333]"
      ]
    },
    {
      "cell_type": "code",
      "execution_count": null,
      "id": "stupid-spectacular",
      "metadata": {
        "id": "stupid-spectacular"
      },
      "outputs": [],
      "source": [
        "#Check the actual image"
      ]
    },
    {
      "cell_type": "code",
      "execution_count": null,
      "id": "tight-motivation",
      "metadata": {
        "id": "tight-motivation",
        "colab": {
          "base_uri": "https://localhost:8080/",
          "height": 447
        },
        "outputId": "7d810307-cb1f-4fb0-b4d5-72c545fbe9d5"
      },
      "outputs": [
        {
          "output_type": "execute_result",
          "data": {
            "text/plain": [
              "<matplotlib.image.AxesImage at 0x78c2a80b3760>"
            ]
          },
          "metadata": {},
          "execution_count": 7
        },
        {
          "output_type": "display_data",
          "data": {
            "text/plain": [
              "<Figure size 640x480 with 1 Axes>"
            ],
            "image/png": "[encoded data removed]"
          },
          "metadata": {}
        }
      ],
      "source": [
        "\n",
        "plt.imshow(x_train[333], cmap='Greys_r')"
      ]
    },
    {
      "cell_type": "markdown",
      "id": "brutal-young",
      "metadata": {
        "id": "brutal-young"
      },
      "source": [
        "Check the shape of the x_train and x_test"
      ]
    },
    {
      "cell_type": "code",
      "execution_count": null,
      "id": "residential-rouge",
      "metadata": {
        "id": "residential-rouge",
        "colab": {
          "base_uri": "https://localhost:8080/"
        },
        "outputId": "2a27ee29-98a8-487e-acec-583cb393b583"
      },
      "outputs": [
        {
          "output_type": "stream",
          "name": "stdout",
          "text": [
            "(60000, 28, 28) train samples\n",
            "(10000, 28, 28) test samples\n"
          ]
        }
      ],
      "source": [
        "\n",
        "print(x_train.shape, 'train samples')\n",
        "print(x_test.shape, 'test samples')"
      ]
    },
    {
      "cell_type": "markdown",
      "id": "secret-parameter",
      "metadata": {
        "id": "secret-parameter"
      },
      "source": [
        "* Convert the x_train and x_test\n",
        "* Cast the numbers to floats\n",
        "* Normalize the inputs"
      ]
    },
    {
      "cell_type": "code",
      "execution_count": null,
      "id": "intense-daisy",
      "metadata": {
        "id": "intense-daisy"
      },
      "outputs": [],
      "source": [
        "\n",
        "x_train = x_train.reshape(len(x_train), 28*28)\n",
        "x_test = x_test.reshape(len(x_test), 28*28)\n",
        "\n",
        "\n",
        "x_train = x_train.astype('float32')\n",
        "x_test = x_test.astype('float32')\n",
        "\n",
        "\n",
        "x_train /= 255\n",
        "x_test /= 255\n"
      ]
    },
    {
      "cell_type": "markdown",
      "id": "celtic-output",
      "metadata": {
        "id": "celtic-output"
      },
      "source": [
        "Convert class vectors to binary class matrices"
      ]
    },
    {
      "cell_type": "code",
      "execution_count": null,
      "id": "confidential-incentive",
      "metadata": {
        "id": "confidential-incentive",
        "colab": {
          "base_uri": "https://localhost:8080/"
        },
        "outputId": "92c58f45-6ad2-4d0f-9104-8f79e65f3b46"
      },
      "outputs": [
        {
          "output_type": "execute_result",
          "data": {
            "text/plain": [
              "array([0., 0., 0., 0., 0., 0., 0., 0., 1., 0.], dtype=float32)"
            ]
          },
          "metadata": {},
          "execution_count": 10
        }
      ],
      "source": [
        "\n",
        "num_classes = 10\n",
        "y_train = keras.utils.to_categorical(y_train, num_classes)\n",
        "y_test = keras.utils.to_categorical(y_test, num_classes)\n",
        "\n",
        "y_train[333]  # now the digit k is represented by a 1 in the kth entry (0-indexed) of the length 10 vector"
      ]
    },
    {
      "cell_type": "markdown",
      "id": "lightweight-walter",
      "metadata": {
        "id": "lightweight-walter"
      },
      "source": [
        "* Build the model with two hidden layers of size 512.\n",
        "* Use dropout of 0.2\n",
        "* Check the model summary"
      ]
    },
    {
      "cell_type": "code",
      "execution_count": null,
      "id": "level-blair",
      "metadata": {
        "id": "level-blair"
      },
      "outputs": [],
      "source": [
        "\n",
        "model = Sequential()\n",
        "model.add(Dense(512, activation='relu', input_shape=(784,)))\n",
        "model.add(Dropout(0.2))\n",
        "model.add(Dense(512, activation='relu'))\n",
        "model.add(Dropout(0.2))\n",
        "model.add(Dense(10, activation='softmax'))"
      ]
    },
    {
      "cell_type": "code",
      "execution_count": null,
      "id": "filled-class",
      "metadata": {
        "id": "filled-class",
        "colab": {
          "base_uri": "https://localhost:8080/"
        },
        "outputId": "d305491c-5401-4a38-9dd5-e3deae0b123f"
      },
      "outputs": [
        {
          "output_type": "stream",
          "name": "stdout",
          "text": [
            "Model: \"sequential\"\n",
            "_________________________________________________________________\n",
            " Layer (type)                Output Shape              Param #   \n",
            "=================================================================\n",
            " dense (Dense)               (None, 512)               401920    \n",
            "                                                                 \n",
            " dropout (Dropout)           (None, 512)               0         \n",
            "                                                                 \n",
            " dense_1 (Dense)             (None, 512)               262656    \n",
            "                                                                 \n",
            " dropout_1 (Dropout)         (None, 512)               0         \n",
            "                                                                 \n",
            " dense_2 (Dense)             (None, 10)                5130      \n",
            "                                                                 \n",
            "=================================================================\n",
            "Total params: 669706 (2.55 MB)\n",
            "Trainable params: 669706 (2.55 MB)\n",
            "Non-trainable params: 0 (0.00 Byte)\n",
            "_________________________________________________________________\n"
          ]
        }
      ],
      "source": [
        "model.summary()"
      ]
    },
    {
      "cell_type": "markdown",
      "id": "thrown-entry",
      "metadata": {
        "id": "thrown-entry"
      },
      "source": [
        "Compile the model using learning rate of 0.001 and optimizer of RMSprop"
      ]
    },
    {
      "cell_type": "code",
      "execution_count": null,
      "id": "oriental-family",
      "metadata": {
        "id": "oriental-family",
        "colab": {
          "base_uri": "https://localhost:8080/"
        },
        "outputId": "8370171a-2700-4242-db75-1235c188199c"
      },
      "outputs": [
        {
          "output_type": "stream",
          "name": "stderr",
          "text": [
            "WARNING:absl:`lr` is deprecated in Keras optimizer, please use `learning_rate` or use the legacy optimizer, e.g.,tf.keras.optimizers.legacy.RMSprop.\n"
          ]
        },
        {
          "output_type": "stream",
          "name": "stdout",
          "text": [
            "Epoch 1/30\n",
            "469/469 [==============================] - 17s 34ms/step - loss: 0.2549 - accuracy: 0.9221 - val_loss: 0.1190 - val_accuracy: 0.9644\n",
            "Epoch 2/30\n",
            "469/469 [==============================] - 15s 31ms/step - loss: 0.1055 - accuracy: 0.9682 - val_loss: 0.0839 - val_accuracy: 0.9746\n",
            "Epoch 3/30\n",
            "469/469 [==============================] - 7s 16ms/step - loss: 0.0748 - accuracy: 0.9768 - val_loss: 0.0688 - val_accuracy: 0.9797\n",
            "Epoch 4/30\n",
            "469/469 [==============================] - 8s 17ms/step - loss: 0.0598 - accuracy: 0.9818 - val_loss: 0.0728 - val_accuracy: 0.9806\n",
            "Epoch 5/30\n",
            "469/469 [==============================] - 8s 17ms/step - loss: 0.0478 - accuracy: 0.9855 - val_loss: 0.0733 - val_accuracy: 0.9801\n",
            "Epoch 6/30\n",
            "469/469 [==============================] - 7s 16ms/step - loss: 0.0379 - accuracy: 0.9879 - val_loss: 0.0680 - val_accuracy: 0.9821\n",
            "Epoch 7/30\n",
            "469/469 [==============================] - 8s 18ms/step - loss: 0.0350 - accuracy: 0.9891 - val_loss: 0.0653 - val_accuracy: 0.9844\n",
            "Epoch 8/30\n",
            "469/469 [==============================] - 7s 16ms/step - loss: 0.0284 - accuracy: 0.9905 - val_loss: 0.0720 - val_accuracy: 0.9805\n",
            "Epoch 9/30\n",
            "469/469 [==============================] - 8s 17ms/step - loss: 0.0260 - accuracy: 0.9918 - val_loss: 0.0673 - val_accuracy: 0.9833\n",
            "Epoch 10/30\n",
            "469/469 [==============================] - 8s 18ms/step - loss: 0.0229 - accuracy: 0.9926 - val_loss: 0.0661 - val_accuracy: 0.9846\n",
            "Epoch 11/30\n",
            "469/469 [==============================] - 7s 16ms/step - loss: 0.0198 - accuracy: 0.9938 - val_loss: 0.0678 - val_accuracy: 0.9835\n",
            "Epoch 12/30\n",
            "469/469 [==============================] - 8s 18ms/step - loss: 0.0189 - accuracy: 0.9940 - val_loss: 0.0771 - val_accuracy: 0.9838\n",
            "Epoch 13/30\n",
            "469/469 [==============================] - 8s 17ms/step - loss: 0.0178 - accuracy: 0.9942 - val_loss: 0.0877 - val_accuracy: 0.9833\n",
            "Epoch 14/30\n",
            "469/469 [==============================] - 7s 16ms/step - loss: 0.0158 - accuracy: 0.9948 - val_loss: 0.0697 - val_accuracy: 0.9853\n",
            "Epoch 15/30\n",
            "469/469 [==============================] - 10s 21ms/step - loss: 0.0137 - accuracy: 0.9955 - val_loss: 0.0779 - val_accuracy: 0.9861\n",
            "Epoch 16/30\n",
            "469/469 [==============================] - 8s 18ms/step - loss: 0.0135 - accuracy: 0.9955 - val_loss: 0.0836 - val_accuracy: 0.9843\n",
            "Epoch 17/30\n",
            "469/469 [==============================] - 7s 16ms/step - loss: 0.0109 - accuracy: 0.9962 - val_loss: 0.0801 - val_accuracy: 0.9853\n",
            "Epoch 18/30\n",
            "469/469 [==============================] - 8s 17ms/step - loss: 0.0109 - accuracy: 0.9966 - val_loss: 0.0839 - val_accuracy: 0.9846\n",
            "Epoch 19/30\n",
            "469/469 [==============================] - 8s 16ms/step - loss: 0.0109 - accuracy: 0.9963 - val_loss: 0.0822 - val_accuracy: 0.9850\n",
            "Epoch 20/30\n",
            "469/469 [==============================] - 8s 17ms/step - loss: 0.0081 - accuracy: 0.9975 - val_loss: 0.0917 - val_accuracy: 0.9836\n",
            "Epoch 21/30\n",
            "469/469 [==============================] - 8s 18ms/step - loss: 0.0090 - accuracy: 0.9968 - val_loss: 0.0958 - val_accuracy: 0.9839\n",
            "Epoch 22/30\n",
            "469/469 [==============================] - 7s 16ms/step - loss: 0.0090 - accuracy: 0.9971 - val_loss: 0.0922 - val_accuracy: 0.9844\n",
            "Epoch 23/30\n",
            "469/469 [==============================] - 8s 18ms/step - loss: 0.0085 - accuracy: 0.9974 - val_loss: 0.0807 - val_accuracy: 0.9865\n",
            "Epoch 24/30\n",
            "469/469 [==============================] - 8s 17ms/step - loss: 0.0073 - accuracy: 0.9974 - val_loss: 0.1001 - val_accuracy: 0.9831\n",
            "Epoch 25/30\n",
            "469/469 [==============================] - 7s 16ms/step - loss: 0.0073 - accuracy: 0.9976 - val_loss: 0.0858 - val_accuracy: 0.9854\n",
            "Epoch 26/30\n",
            "469/469 [==============================] - 8s 17ms/step - loss: 0.0061 - accuracy: 0.9980 - val_loss: 0.0754 - val_accuracy: 0.9856\n",
            "Epoch 27/30\n",
            "469/469 [==============================] - 8s 17ms/step - loss: 0.0070 - accuracy: 0.9977 - val_loss: 0.0866 - val_accuracy: 0.9854\n",
            "Epoch 28/30\n",
            "469/469 [==============================] - 8s 16ms/step - loss: 0.0064 - accuracy: 0.9979 - val_loss: 0.0823 - val_accuracy: 0.9852\n",
            "Epoch 29/30\n",
            "469/469 [==============================] - 8s 17ms/step - loss: 0.0050 - accuracy: 0.9983 - val_loss: 0.0936 - val_accuracy: 0.9857\n",
            "Epoch 30/30\n",
            "469/469 [==============================] - 7s 16ms/step - loss: 0.0063 - accuracy: 0.9978 - val_loss: 0.0982 - val_accuracy: 0.9848\n"
          ]
        }
      ],
      "source": [
        "learning_rate = .001\n",
        "model.compile(loss='categorical_crossentropy',\n",
        "              optimizer=RMSprop(lr=learning_rate),\n",
        "              metrics=['accuracy'])\n",
        "batch_size = 128  # mini-batch with 128 examples\n",
        "epochs = 30\n",
        "history = model.fit(\n",
        "    x_train, y_train,\n",
        "    batch_size=batch_size,\n",
        "    epochs=epochs,\n",
        "    verbose=1,\n",
        "    validation_data=(x_test, y_test))"
      ]
    },
    {
      "cell_type": "markdown",
      "id": "forty-trout",
      "metadata": {
        "id": "forty-trout"
      },
      "source": [
        "Use Keras evaluate function to evaluate performance on the test set"
      ]
    },
    {
      "cell_type": "code",
      "execution_count": null,
      "id": "random-ballet",
      "metadata": {
        "id": "random-ballet",
        "colab": {
          "base_uri": "https://localhost:8080/"
        },
        "outputId": "a238990a-b7d2-4d06-dd23-61ed16f9962e"
      },
      "outputs": [
        {
          "output_type": "stream",
          "name": "stdout",
          "text": [
            "Test loss: 0.09815128147602081\n",
            "Test accuracy: 0.9847999811172485\n"
          ]
        }
      ],
      "source": [
        "score = model.evaluate(x_test, y_test, verbose=0)\n",
        "print('Test loss:', score[0])\n",
        "print('Test accuracy:', score[1])"
      ]
    },
    {
      "cell_type": "markdown",
      "id": "fatal-tournament",
      "metadata": {
        "id": "fatal-tournament"
      },
      "source": [
        "Interpret the result"
      ]
    },
    {
      "cell_type": "markdown",
      "id": "german-breed",
      "metadata": {
        "id": "german-breed"
      },
      "source": [
        "#type your answer here"
      ]
    },
    {
      "cell_type": "code",
      "execution_count": null,
      "id": "imported-impression",
      "metadata": {
        "id": "imported-impression"
      },
      "outputs": [],
      "source": [
        "def plot_loss_accuracy(history):\n",
        "    fig = plt.figure(figsize=(12, 6))\n",
        "    ax = fig.add_subplot(1, 2, 1)\n",
        "    ax.plot(history.history[\"loss\"],'r-x', label=\"Train Loss\")\n",
        "    ax.plot(history.history[\"val_loss\"],'b-x', label=\"Validation Loss\")\n",
        "    ax.legend()\n",
        "    ax.set_title('cross_entropy loss')\n",
        "    ax.grid(True)\n",
        "\n",
        "\n",
        "    ax = fig.add_subplot(1, 2, 2)\n",
        "    ax.plot(history.history[\"accuracy\"],'r-x', label=\"Train Accuracy\")\n",
        "    ax.plot(history.history[\"val_accuracy\"],'b-x', label=\"Validation Accuracy\")\n",
        "    ax.legend()\n",
        "    ax.set_title('accuracy')\n",
        "    ax.grid(True)\n",
        "\n",
        "\n",
        "#plot_loss_accuracy(history)"
      ]
    },
    {
      "cell_type": "markdown",
      "id": "acoustic-recipient",
      "metadata": {
        "id": "acoustic-recipient"
      },
      "source": [
        "Interpret the result"
      ]
    },
    {
      "cell_type": "markdown",
      "id": "cross-hotel",
      "metadata": {
        "id": "cross-hotel"
      },
      "source": [
        "#type your answer here"
      ]
    },
    {
      "cell_type": "markdown",
      "id": "three-terrorist",
      "metadata": {
        "id": "three-terrorist"
      },
      "source": [
        "#### Supplementary Activity\n",
        "\n",
        "* Use the Keras \"Sequential\" functionality to build a new model (model_1) with the following specifications:\n",
        "\n",
        "1. Two hidden layers.\n",
        "2. First hidden layer of size 400 and second of size 300\n",
        "3. Dropout of .4 at each layer\n",
        "4. How many parameters does your model have?  How does it compare with the previous model?\n",
        "5. Train this model for 20 epochs with RMSProp at a learning rate of .001 and a batch size of 128\n",
        "6. Use at least two  regularization techniques and apply it to the new model (model_2)\n",
        "7. Train this model for your preferred epochs , learning rate, batch size and optimizer\n",
        "8. Compare the accuracy and loss (training and validation) of model_1 and model_2"
      ]
    },
    {
      "cell_type": "code",
      "source": [
        "import numpy as np\n",
        "import pandas as pd\n",
        "import matplotlib.pyplot as plt\n",
        "\n",
        "from sklearn.model_selection import train_test_split\n",
        "from sklearn.preprocessing import MinMaxScaler\n",
        "from sklearn.metrics import confusion_matrix, precision_recall_curve, roc_auc_score, roc_curve, accuracy_score\n",
        "from sklearn.ensemble import RandomForestClassifier\n",
        "from sklearn.preprocessing import LabelEncoder\n",
        "\n",
        "import seaborn as sns\n",
        "\n",
        "%matplotlib inline"
      ],
      "metadata": {
        "id": "L1LporMbIV03"
      },
      "execution_count": null,
      "outputs": [],
      "id": "L1LporMbIV03"
    },
    {
      "cell_type": "code",
      "source": [
        "## Import Keras objects for Deep Learning\n",
        "\n",
        "from __future__ import print_function\n",
        "\n",
        "import keras\n",
        "from keras.models import Sequential\n",
        "from keras.layers import Dense, Dropout\n",
        "from keras.optimizers import Adam, RMSprop\n",
        "from keras import regularizers"
      ],
      "metadata": {
        "id": "XavEIObFNu_S"
      },
      "execution_count": null,
      "outputs": [],
      "id": "XavEIObFNu_S"
    },
    {
      "cell_type": "code",
      "source": [
        "from google.colab import drive\n",
        "drive.mount('/content/drive/')"
      ],
      "metadata": {
        "colab": {
          "base_uri": "https://localhost:8080/"
        },
        "id": "LM3WbYlwIcwQ",
        "outputId": "b84ac4bf-683a-4558-ca0f-e6e16a9fbeae"
      },
      "execution_count": null,
      "outputs": [
        {
          "output_type": "stream",
          "name": "stdout",
          "text": [
            "Mounted at /content/drive/\n"
          ]
        }
      ],
      "id": "LM3WbYlwIcwQ"
    },
    {
      "cell_type": "code",
      "source": [
        "supp_df = pd.read_csv('drive/My Drive/CPE313/buyukyilmaz.csv')\n",
        "\n",
        "supp_df"
      ],
      "metadata": {
        "colab": {
          "base_uri": "https://localhost:8080/",
          "height": 444
        },
        "id": "FHq3ieGEIEQ3",
        "outputId": "e5dc3883-75c4-4a7c-9c35-321f5b9c032e"
      },
      "execution_count": null,
      "outputs": [
        {
          "output_type": "execute_result",
          "data": {
            "text/plain": [
              "      meanfreq        sd    median       Q25       Q75       IQR       skew  \\\n",
              "0     0.059781  0.064241  0.032027  0.015071  0.090193  0.075122  12.863462   \n",
              "1     0.066009  0.067310  0.040229  0.019414  0.092666  0.073252  22.423285   \n",
              "2     0.077316  0.083829  0.036718  0.008701  0.131908  0.123207  30.757155   \n",
              "3     0.151228  0.072111  0.158011  0.096582  0.207955  0.111374   1.232831   \n",
              "4     0.135120  0.079146  0.124656  0.078720  0.206045  0.127325   1.101174   \n",
              "...        ...       ...       ...       ...       ...       ...        ...   \n",
              "3163  0.131884  0.084734  0.153707  0.049285  0.201144  0.151859   1.762129   \n",
              "3164  0.116221  0.089221  0.076758  0.042718  0.204911  0.162193   0.693730   \n",
              "3165  0.142056  0.095798  0.183731  0.033424  0.224360  0.190936   1.876502   \n",
              "3166  0.143659  0.090628  0.184976  0.043508  0.219943  0.176435   1.591065   \n",
              "3167  0.165509  0.092884  0.183044  0.070072  0.250827  0.180756   1.705029   \n",
              "\n",
              "             kurt    sp.ent       sfm  ...  centroid   meanfun    minfun  \\\n",
              "0      274.402906  0.893369  0.491918  ...  0.059781  0.084279  0.015702   \n",
              "1      634.613855  0.892193  0.513724  ...  0.066009  0.107937  0.015826   \n",
              "2     1024.927705  0.846389  0.478905  ...  0.077316  0.098706  0.015656   \n",
              "3        4.177296  0.963322  0.727232  ...  0.151228  0.088965  0.017798   \n",
              "4        4.333713  0.971955  0.783568  ...  0.135120  0.106398  0.016931   \n",
              "...           ...       ...       ...  ...       ...       ...       ...   \n",
              "3163     6.630383  0.962934  0.763182  ...  0.131884  0.182790  0.083770   \n",
              "3164     2.503954  0.960716  0.709570  ...  0.116221  0.188980  0.034409   \n",
              "3165     6.604509  0.946854  0.654196  ...  0.142056  0.209918  0.039506   \n",
              "3166     5.388298  0.950436  0.675470  ...  0.143659  0.172375  0.034483   \n",
              "3167     5.769115  0.938829  0.601529  ...  0.165509  0.185607  0.062257   \n",
              "\n",
              "        maxfun   meandom    mindom    maxdom   dfrange   modindx  gender  \n",
              "0     0.275862  0.007812  0.007812  0.007812  0.000000  0.000000    male  \n",
              "1     0.250000  0.009014  0.007812  0.054688  0.046875  0.052632    male  \n",
              "2     0.271186  0.007990  0.007812  0.015625  0.007812  0.046512    male  \n",
              "3     0.250000  0.201497  0.007812  0.562500  0.554688  0.247119    male  \n",
              "4     0.266667  0.712812  0.007812  5.484375  5.476562  0.208274    male  \n",
              "...        ...       ...       ...       ...       ...       ...     ...  \n",
              "3163  0.262295  0.832899  0.007812  4.210938  4.203125  0.161929  female  \n",
              "3164  0.275862  0.909856  0.039062  3.679688  3.640625  0.277897  female  \n",
              "3165  0.275862  0.494271  0.007812  2.937500  2.929688  0.194759  female  \n",
              "3166  0.250000  0.791360  0.007812  3.593750  3.585938  0.311002  female  \n",
              "3167  0.271186  0.227022  0.007812  0.554688  0.546875  0.350000  female  \n",
              "\n",
              "[3168 rows x 21 columns]"
            ],
            "text/html": [
              "\n",
              "  <div id=\"df-a687bd53-6777-4a21-b401-297bf0672446\" class=\"colab-df-container\">\n",
              "    <div>\n",
              "<style scoped>\n",
              "    .dataframe tbody tr th:only-of-type {\n",
              "        vertical-align: middle;\n",
              "    }\n",
              "\n",
              "    .dataframe tbody tr th {\n",
              "        vertical-align: top;\n",
              "    }\n",
              "\n",
              "    .dataframe thead th {\n",
              "        text-align: right;\n",
              "    }\n",
              "</style>\n",
              "<table border=\"1\" class=\"dataframe\">\n",
              "  <thead>\n",
              "    <tr style=\"text-align: right;\">\n",
              "      <th></th>\n",
              "      <th>meanfreq</th>\n",
              "      <th>sd</th>\n",
              "      <th>median</th>\n",
              "      <th>Q25</th>\n",
              "      <th>Q75</th>\n",
              "      <th>IQR</th>\n",
              "      <th>skew</th>\n",
              "      <th>kurt</th>\n",
              "      <th>sp.ent</th>\n",
              "      <th>sfm</th>\n",
              "      <th>...</th>\n",
              "      <th>centroid</th>\n",
              "      <th>meanfun</th>\n",
              "      <th>minfun</th>\n",
              "      <th>maxfun</th>\n",
              "      <th>meandom</th>\n",
              "      <th>mindom</th>\n",
              "      <th>maxdom</th>\n",
              "      <th>dfrange</th>\n",
              "      <th>modindx</th>\n",
              "      <th>gender</th>\n",
              "    </tr>\n",
              "  </thead>\n",
              "  <tbody>\n",
              "    <tr>\n",
              "      <th>0</th>\n",
              "      <td>0.059781</td>\n",
              "      <td>0.064241</td>\n",
              "      <td>0.032027</td>\n",
              "      <td>0.015071</td>\n",
              "      <td>0.090193</td>\n",
              "      <td>0.075122</td>\n",
              "      <td>12.863462</td>\n",
              "      <td>274.402906</td>\n",
              "      <td>0.893369</td>\n",
              "      <td>0.491918</td>\n",
              "      <td>...</td>\n",
              "      <td>0.059781</td>\n",
              "      <td>0.084279</td>\n",
              "      <td>0.015702</td>\n",
              "      <td>0.275862</td>\n",
              "      <td>0.007812</td>\n",
              "      <td>0.007812</td>\n",
              "      <td>0.007812</td>\n",
              "      <td>0.000000</td>\n",
              "      <td>0.000000</td>\n",
              "      <td>male</td>\n",
              "    </tr>\n",
              "    <tr>\n",
              "      <th>1</th>\n",
              "      <td>0.066009</td>\n",
              "      <td>0.067310</td>\n",
              "      <td>0.040229</td>\n",
              "      <td>0.019414</td>\n",
              "      <td>0.092666</td>\n",
              "      <td>0.073252</td>\n",
              "      <td>22.423285</td>\n",
              "      <td>634.613855</td>\n",
              "      <td>0.892193</td>\n",
              "      <td>0.513724</td>\n",
              "      <td>...</td>\n",
              "      <td>0.066009</td>\n",
              "      <td>0.107937</td>\n",
              "      <td>0.015826</td>\n",
              "      <td>0.250000</td>\n",
              "      <td>0.009014</td>\n",
              "      <td>0.007812</td>\n",
              "      <td>0.054688</td>\n",
              "      <td>0.046875</td>\n",
              "      <td>0.052632</td>\n",
              "      <td>male</td>\n",
              "    </tr>\n",
              "    <tr>\n",
              "      <th>2</th>\n",
              "      <td>0.077316</td>\n",
              "      <td>0.083829</td>\n",
              "      <td>0.036718</td>\n",
              "      <td>0.008701</td>\n",
              "      <td>0.131908</td>\n",
              "      <td>0.123207</td>\n",
              "      <td>30.757155</td>\n",
              "      <td>1024.927705</td>\n",
              "      <td>0.846389</td>\n",
              "      <td>0.478905</td>\n",
              "      <td>...</td>\n",
              "      <td>0.077316</td>\n",
              "      <td>0.098706</td>\n",
              "      <td>0.015656</td>\n",
              "      <td>0.271186</td>\n",
              "      <td>0.007990</td>\n",
              "      <td>0.007812</td>\n",
              "      <td>0.015625</td>\n",
              "      <td>0.007812</td>\n",
              "      <td>0.046512</td>\n",
              "      <td>male</td>\n",
              "    </tr>\n",
              "    <tr>\n",
              "      <th>3</th>\n",
              "      <td>0.151228</td>\n",
              "      <td>0.072111</td>\n",
              "      <td>0.158011</td>\n",
              "      <td>0.096582</td>\n",
              "      <td>0.207955</td>\n",
              "      <td>0.111374</td>\n",
              "      <td>1.232831</td>\n",
              "      <td>4.177296</td>\n",
              "      <td>0.963322</td>\n",
              "      <td>0.727232</td>\n",
              "      <td>...</td>\n",
              "      <td>0.151228</td>\n",
              "      <td>0.088965</td>\n",
              "      <td>0.017798</td>\n",
              "      <td>0.250000</td>\n",
              "      <td>0.201497</td>\n",
              "      <td>0.007812</td>\n",
              "      <td>0.562500</td>\n",
              "      <td>0.554688</td>\n",
              "      <td>0.247119</td>\n",
              "      <td>male</td>\n",
              "    </tr>\n",
              "    <tr>\n",
              "      <th>4</th>\n",
              "      <td>0.135120</td>\n",
              "      <td>0.079146</td>\n",
              "      <td>0.124656</td>\n",
              "      <td>0.078720</td>\n",
              "      <td>0.206045</td>\n",
              "      <td>0.127325</td>\n",
              "      <td>1.101174</td>\n",
              "      <td>4.333713</td>\n",
              "      <td>0.971955</td>\n",
              "      <td>0.783568</td>\n",
              "      <td>...</td>\n",
              "      <td>0.135120</td>\n",
              "      <td>0.106398</td>\n",
              "      <td>0.016931</td>\n",
              "      <td>0.266667</td>\n",
              "      <td>0.712812</td>\n",
              "      <td>0.007812</td>\n",
              "      <td>5.484375</td>\n",
              "      <td>5.476562</td>\n",
              "      <td>0.208274</td>\n",
              "      <td>male</td>\n",
              "    </tr>\n",
              "    <tr>\n",
              "      <th>...</th>\n",
              "      <td>...</td>\n",
              "      <td>...</td>\n",
              "      <td>...</td>\n",
              "      <td>...</td>\n",
              "      <td>...</td>\n",
              "      <td>...</td>\n",
              "      <td>...</td>\n",
              "      <td>...</td>\n",
              "      <td>...</td>\n",
              "      <td>...</td>\n",
              "      <td>...</td>\n",
              "      <td>...</td>\n",
              "      <td>...</td>\n",
              "      <td>...</td>\n",
              "      <td>...</td>\n",
              "      <td>...</td>\n",
              "      <td>...</td>\n",
              "      <td>...</td>\n",
              "      <td>...</td>\n",
              "      <td>...</td>\n",
              "      <td>...</td>\n",
              "    </tr>\n",
              "    <tr>\n",
              "      <th>3163</th>\n",
              "      <td>0.131884</td>\n",
              "      <td>0.084734</td>\n",
              "      <td>0.153707</td>\n",
              "      <td>0.049285</td>\n",
              "      <td>0.201144</td>\n",
              "      <td>0.151859</td>\n",
              "      <td>1.762129</td>\n",
              "      <td>6.630383</td>\n",
              "      <td>0.962934</td>\n",
              "      <td>0.763182</td>\n",
              "      <td>...</td>\n",
              "      <td>0.131884</td>\n",
              "      <td>0.182790</td>\n",
              "      <td>0.083770</td>\n",
              "      <td>0.262295</td>\n",
              "      <td>0.832899</td>\n",
              "      <td>0.007812</td>\n",
              "      <td>4.210938</td>\n",
              "      <td>4.203125</td>\n",
              "      <td>0.161929</td>\n",
              "      <td>female</td>\n",
              "    </tr>\n",
              "    <tr>\n",
              "      <th>3164</th>\n",
              "      <td>0.116221</td>\n",
              "      <td>0.089221</td>\n",
              "      <td>0.076758</td>\n",
              "      <td>0.042718</td>\n",
              "      <td>0.204911</td>\n",
              "      <td>0.162193</td>\n",
              "      <td>0.693730</td>\n",
              "      <td>2.503954</td>\n",
              "      <td>0.960716</td>\n",
              "      <td>0.709570</td>\n",
              "      <td>...</td>\n",
              "      <td>0.116221</td>\n",
              "      <td>0.188980</td>\n",
              "      <td>0.034409</td>\n",
              "      <td>0.275862</td>\n",
              "      <td>0.909856</td>\n",
              "      <td>0.039062</td>\n",
              "      <td>3.679688</td>\n",
              "      <td>3.640625</td>\n",
              "      <td>0.277897</td>\n",
              "      <td>female</td>\n",
              "    </tr>\n",
              "    <tr>\n",
              "      <th>3165</th>\n",
              "      <td>0.142056</td>\n",
              "      <td>0.095798</td>\n",
              "      <td>0.183731</td>\n",
              "      <td>0.033424</td>\n",
              "      <td>0.224360</td>\n",
              "      <td>0.190936</td>\n",
              "      <td>1.876502</td>\n",
              "      <td>6.604509</td>\n",
              "      <td>0.946854</td>\n",
              "      <td>0.654196</td>\n",
              "      <td>...</td>\n",
              "      <td>0.142056</td>\n",
              "      <td>0.209918</td>\n",
              "      <td>0.039506</td>\n",
              "      <td>0.275862</td>\n",
              "      <td>0.494271</td>\n",
              "      <td>0.007812</td>\n",
              "      <td>2.937500</td>\n",
              "      <td>2.929688</td>\n",
              "      <td>0.194759</td>\n",
              "      <td>female</td>\n",
              "    </tr>\n",
              "    <tr>\n",
              "      <th>3166</th>\n",
              "      <td>0.143659</td>\n",
              "      <td>0.090628</td>\n",
              "      <td>0.184976</td>\n",
              "      <td>0.043508</td>\n",
              "      <td>0.219943</td>\n",
              "      <td>0.176435</td>\n",
              "      <td>1.591065</td>\n",
              "      <td>5.388298</td>\n",
              "      <td>0.950436</td>\n",
              "      <td>0.675470</td>\n",
              "      <td>...</td>\n",
              "      <td>0.143659</td>\n",
              "      <td>0.172375</td>\n",
              "      <td>0.034483</td>\n",
              "      <td>0.250000</td>\n",
              "      <td>0.791360</td>\n",
              "      <td>0.007812</td>\n",
              "      <td>3.593750</td>\n",
              "      <td>3.585938</td>\n",
              "      <td>0.311002</td>\n",
              "      <td>female</td>\n",
              "    </tr>\n",
              "    <tr>\n",
              "      <th>3167</th>\n",
              "      <td>0.165509</td>\n",
              "      <td>0.092884</td>\n",
              "      <td>0.183044</td>\n",
              "      <td>0.070072</td>\n",
              "      <td>0.250827</td>\n",
              "      <td>0.180756</td>\n",
              "      <td>1.705029</td>\n",
              "      <td>5.769115</td>\n",
              "      <td>0.938829</td>\n",
              "      <td>0.601529</td>\n",
              "      <td>...</td>\n",
              "      <td>0.165509</td>\n",
              "      <td>0.185607</td>\n",
              "      <td>0.062257</td>\n",
              "      <td>0.271186</td>\n",
              "      <td>0.227022</td>\n",
              "      <td>0.007812</td>\n",
              "      <td>0.554688</td>\n",
              "      <td>0.546875</td>\n",
              "      <td>0.350000</td>\n",
              "      <td>female</td>\n",
              "    </tr>\n",
              "  </tbody>\n",
              "</table>\n",
              "<p>3168 rows × 21 columns</p>\n",
              "</div>\n",
              "    <div class=\"colab-df-buttons\">\n",
              "\n",
              "  <div class=\"colab-df-container\">\n",
              "    <button class=\"colab-df-convert\" onclick=\"convertToInteractive('df-a687bd53-6777-4a21-b401-297bf0672446')\"\n",
              "            title=\"Convert this dataframe to an interactive table.\"\n",
              "            style=\"display:none;\">\n",
              "\n",
              "  <svg xmlns=\"http://www.w3.org/2000/svg\" height=\"24px\" viewBox=\"0 -960 960 960\">\n",
              "    <path d=\"M120-120v-720h720v720H120Zm60-500h600v-160H180v160Zm220 220h160v-160H400v160Zm0 220h160v-160H400v160ZM180-400h160v-160H180v160Zm440 0h160v-160H620v160ZM180-180h160v-160H180v160Zm440 0h160v-160H620v160Z\"/>\n",
              "  </svg>\n",
              "    </button>\n",
              "\n",
              "  <style>\n",
              "    .colab-df-container {\n",
              "      display:flex;\n",
              "      gap: 12px;\n",
              "    }\n",
              "\n",
              "    .colab-df-convert {\n",
              "      background-color: #E8F0FE;\n",
              "      border: none;\n",
              "      border-radius: 50%;\n",
              "      cursor: pointer;\n",
              "      display: none;\n",
              "      fill: #1967D2;\n",
              "      height: 32px;\n",
              "      padding: 0 0 0 0;\n",
              "      width: 32px;\n",
              "    }\n",
              "\n",
              "    .colab-df-convert:hover {\n",
              "      background-color: #E2EBFA;\n",
              "      box-shadow: 0px 1px 2px rgba(60, 64, 67, 0.3), 0px 1px 3px 1px rgba(60, 64, 67, 0.15);\n",
              "      fill: #174EA6;\n",
              "    }\n",
              "\n",
              "    .colab-df-buttons div {\n",
              "      margin-bottom: 4px;\n",
              "    }\n",
              "\n",
              "    [theme=dark] .colab-df-convert {\n",
              "      background-color: #3B4455;\n",
              "      fill: #D2E3FC;\n",
              "    }\n",
              "\n",
              "    [theme=dark] .colab-df-convert:hover {\n",
              "      background-color: #434B5C;\n",
              "      box-shadow: 0px 1px 3px 1px rgba(0, 0, 0, 0.15);\n",
              "      filter: drop-shadow(0px 1px 2px rgba(0, 0, 0, 0.3));\n",
              "      fill: #FFFFFF;\n",
              "    }\n",
              "  </style>\n",
              "\n",
              "    <script>\n",
              "      const buttonEl =\n",
              "        document.querySelector('#df-a687bd53-6777-4a21-b401-297bf0672446 button.colab-df-convert');\n",
              "      buttonEl.style.display =\n",
              "        google.colab.kernel.accessAllowed ? 'block' : 'none';\n",
              "\n",
              "      async function convertToInteractive(key) {\n",
              "        const element = document.querySelector('#df-a687bd53-6777-4a21-b401-297bf0672446');\n",
              "        const dataTable =\n",
              "          await google.colab.kernel.invokeFunction('convertToInteractive',\n",
              "                                                    [key], {});\n",
              "        if (!dataTable) return;\n",
              "\n",
              "        const docLinkHtml = 'Like what you see? Visit the ' +\n",
              "          '<a target=\"_blank\" href=https://colab.research.google.com/notebooks/data_table.ipynb>data table notebook</a>'\n",
              "          + ' to learn more about interactive tables.';\n",
              "        element.innerHTML = '';\n",
              "        dataTable['output_type'] = 'display_data';\n",
              "        await google.colab.output.renderOutput(dataTable, element);\n",
              "        const docLink = document.createElement('div');\n",
              "        docLink.innerHTML = docLinkHtml;\n",
              "        element.appendChild(docLink);\n",
              "      }\n",
              "    </script>\n",
              "  </div>\n",
              "\n",
              "\n",
              "<div id=\"df-7e1c6c1c-59d4-4c83-b73e-1e8c81fd7233\">\n",
              "  <button class=\"colab-df-quickchart\" onclick=\"quickchart('df-7e1c6c1c-59d4-4c83-b73e-1e8c81fd7233')\"\n",
              "            title=\"Suggest charts\"\n",
              "            style=\"display:none;\">\n",
              "\n",
              "<svg xmlns=\"http://www.w3.org/2000/svg\" height=\"24px\"viewBox=\"0 0 24 24\"\n",
              "     width=\"24px\">\n",
              "    <g>\n",
              "        <path d=\"M19 3H5c-1.1 0-2 .9-2 2v14c0 1.1.9 2 2 2h14c1.1 0 2-.9 2-2V5c0-1.1-.9-2-2-2zM9 17H7v-7h2v7zm4 0h-2V7h2v10zm4 0h-2v-4h2v4z\"/>\n",
              "    </g>\n",
              "</svg>\n",
              "  </button>\n",
              "\n",
              "<style>\n",
              "  .colab-df-quickchart {\n",
              "      --bg-color: #E8F0FE;\n",
              "      --fill-color: #1967D2;\n",
              "      --hover-bg-color: #E2EBFA;\n",
              "      --hover-fill-color: #174EA6;\n",
              "      --disabled-fill-color: #AAA;\n",
              "      --disabled-bg-color: #DDD;\n",
              "  }\n",
              "\n",
              "  [theme=dark] .colab-df-quickchart {\n",
              "      --bg-color: #3B4455;\n",
              "      --fill-color: #D2E3FC;\n",
              "      --hover-bg-color: #434B5C;\n",
              "      --hover-fill-color: #FFFFFF;\n",
              "      --disabled-bg-color: #3B4455;\n",
              "      --disabled-fill-color: #666;\n",
              "  }\n",
              "\n",
              "  .colab-df-quickchart {\n",
              "    background-color: var(--bg-color);\n",
              "    border: none;\n",
              "    border-radius: 50%;\n",
              "    cursor: pointer;\n",
              "    display: none;\n",
              "    fill: var(--fill-color);\n",
              "    height: 32px;\n",
              "    padding: 0;\n",
              "    width: 32px;\n",
              "  }\n",
              "\n",
              "  .colab-df-quickchart:hover {\n",
              "    background-color: var(--hover-bg-color);\n",
              "    box-shadow: 0 1px 2px rgba(60, 64, 67, 0.3), 0 1px 3px 1px rgba(60, 64, 67, 0.15);\n",
              "    fill: var(--button-hover-fill-color);\n",
              "  }\n",
              "\n",
              "  .colab-df-quickchart-complete:disabled,\n",
              "  .colab-df-quickchart-complete:disabled:hover {\n",
              "    background-color: var(--disabled-bg-color);\n",
              "    fill: var(--disabled-fill-color);\n",
              "    box-shadow: none;\n",
              "  }\n",
              "\n",
              "  .colab-df-spinner {\n",
              "    border: 2px solid var(--fill-color);\n",
              "    border-color: transparent;\n",
              "    border-bottom-color: var(--fill-color);\n",
              "    animation:\n",
              "      spin 1s steps(1) infinite;\n",
              "  }\n",
              "\n",
              "  @keyframes spin {\n",
              "    0% {\n",
              "      border-color: transparent;\n",
              "      border-bottom-color: var(--fill-color);\n",
              "      border-left-color: var(--fill-color);\n",
              "    }\n",
              "    20% {\n",
              "      border-color: transparent;\n",
              "      border-left-color: var(--fill-color);\n",
              "      border-top-color: var(--fill-color);\n",
              "    }\n",
              "    30% {\n",
              "      border-color: transparent;\n",
              "      border-left-color: var(--fill-color);\n",
              "      border-top-color: var(--fill-color);\n",
              "      border-right-color: var(--fill-color);\n",
              "    }\n",
              "    40% {\n",
              "      border-color: transparent;\n",
              "      border-right-color: var(--fill-color);\n",
              "      border-top-color: var(--fill-color);\n",
              "    }\n",
              "    60% {\n",
              "      border-color: transparent;\n",
              "      border-right-color: var(--fill-color);\n",
              "    }\n",
              "    80% {\n",
              "      border-color: transparent;\n",
              "      border-right-color: var(--fill-color);\n",
              "      border-bottom-color: var(--fill-color);\n",
              "    }\n",
              "    90% {\n",
              "      border-color: transparent;\n",
              "      border-bottom-color: var(--fill-color);\n",
              "    }\n",
              "  }\n",
              "</style>\n",
              "\n",
              "  <script>\n",
              "    async function quickchart(key) {\n",
              "      const quickchartButtonEl =\n",
              "        document.querySelector('#' + key + ' button');\n",
              "      quickchartButtonEl.disabled = true;  // To prevent multiple clicks.\n",
              "      quickchartButtonEl.classList.add('colab-df-spinner');\n",
              "      try {\n",
              "        const charts = await google.colab.kernel.invokeFunction(\n",
              "            'suggestCharts', [key], {});\n",
              "      } catch (error) {\n",
              "        console.error('Error during call to suggestCharts:', error);\n",
              "      }\n",
              "      quickchartButtonEl.classList.remove('colab-df-spinner');\n",
              "      quickchartButtonEl.classList.add('colab-df-quickchart-complete');\n",
              "    }\n",
              "    (() => {\n",
              "      let quickchartButtonEl =\n",
              "        document.querySelector('#df-7e1c6c1c-59d4-4c83-b73e-1e8c81fd7233 button');\n",
              "      quickchartButtonEl.style.display =\n",
              "        google.colab.kernel.accessAllowed ? 'block' : 'none';\n",
              "    })();\n",
              "  </script>\n",
              "</div>\n",
              "    </div>\n",
              "  </div>\n"
            ],
            "application/vnd.google.colaboratory.intrinsic+json": {
              "type": "dataframe",
              "variable_name": "supp_df"
            }
          },
          "metadata": {},
          "execution_count": 19
        }
      ],
      "id": "FHq3ieGEIEQ3"
    },
    {
      "cell_type": "markdown",
      "source": [
        "##### Data preprocessing"
      ],
      "metadata": {
        "id": "JaO5c_-XL-qg"
      },
      "id": "JaO5c_-XL-qg"
    },
    {
      "cell_type": "code",
      "source": [
        "print('Data Shape: ', supp_df.shape, '\\n\\n')\n",
        "\n",
        "print('Data Types:\\n', supp_df.dtypes)"
      ],
      "metadata": {
        "colab": {
          "base_uri": "https://localhost:8080/"
        },
        "id": "MmQZfirVMIao",
        "outputId": "91f22cee-0486-4f1f-b784-38309346e9b3"
      },
      "execution_count": null,
      "outputs": [
        {
          "output_type": "stream",
          "name": "stdout",
          "text": [
            "Data Shape:  (3168, 21) \n",
            "\n",
            "\n",
            "Data Types:\n",
            " meanfreq    float64\n",
            "sd          float64\n",
            "median      float64\n",
            "Q25         float64\n",
            "Q75         float64\n",
            "IQR         float64\n",
            "skew        float64\n",
            "kurt        float64\n",
            "sp.ent      float64\n",
            "sfm         float64\n",
            "mode        float64\n",
            "centroid    float64\n",
            "meanfun     float64\n",
            "minfun      float64\n",
            "maxfun      float64\n",
            "meandom     float64\n",
            "mindom      float64\n",
            "maxdom      float64\n",
            "dfrange     float64\n",
            "modindx     float64\n",
            "gender       object\n",
            "dtype: object\n"
          ]
        }
      ],
      "id": "MmQZfirVMIao"
    },
    {
      "cell_type": "code",
      "source": [
        "supp_df.info()"
      ],
      "metadata": {
        "colab": {
          "base_uri": "https://localhost:8080/"
        },
        "id": "TaItBRlbMs2Q",
        "outputId": "255e469f-53f4-46fe-eef0-8695adf064ec"
      },
      "execution_count": null,
      "outputs": [
        {
          "output_type": "stream",
          "name": "stdout",
          "text": [
            "<class 'pandas.core.frame.DataFrame'>\n",
            "RangeIndex: 3168 entries, 0 to 3167\n",
            "Data columns (total 21 columns):\n",
            " #   Column    Non-Null Count  Dtype  \n",
            "---  ------    --------------  -----  \n",
            " 0   meanfreq  3168 non-null   float64\n",
            " 1   sd        3168 non-null   float64\n",
            " 2   median    3168 non-null   float64\n",
            " 3   Q25       3168 non-null   float64\n",
            " 4   Q75       3168 non-null   float64\n",
            " 5   IQR       3168 non-null   float64\n",
            " 6   skew      3168 non-null   float64\n",
            " 7   kurt      3168 non-null   float64\n",
            " 8   sp.ent    3168 non-null   float64\n",
            " 9   sfm       3168 non-null   float64\n",
            " 10  mode      3168 non-null   float64\n",
            " 11  centroid  3168 non-null   float64\n",
            " 12  meanfun   3168 non-null   float64\n",
            " 13  minfun    3168 non-null   float64\n",
            " 14  maxfun    3168 non-null   float64\n",
            " 15  meandom   3168 non-null   float64\n",
            " 16  mindom    3168 non-null   float64\n",
            " 17  maxdom    3168 non-null   float64\n",
            " 18  dfrange   3168 non-null   float64\n",
            " 19  modindx   3168 non-null   float64\n",
            " 20  gender    3168 non-null   object \n",
            "dtypes: float64(20), object(1)\n",
            "memory usage: 519.9+ KB\n"
          ]
        }
      ],
      "id": "TaItBRlbMs2Q"
    },
    {
      "cell_type": "code",
      "source": [
        "supp_df.columns"
      ],
      "metadata": {
        "colab": {
          "base_uri": "https://localhost:8080/"
        },
        "id": "-Hy5N0zTKTkN",
        "outputId": "df6ac69c-83fa-4c21-81a6-994a8a5c7ffc"
      },
      "execution_count": null,
      "outputs": [
        {
          "output_type": "execute_result",
          "data": {
            "text/plain": [
              "Index(['meanfreq', 'sd', 'median', 'Q25', 'Q75', 'IQR', 'skew', 'kurt',\n",
              "       'sp.ent', 'sfm', 'mode', 'centroid', 'meanfun', 'minfun', 'maxfun',\n",
              "       'meandom', 'mindom', 'maxdom', 'dfrange', 'modindx', 'gender'],\n",
              "      dtype='object')"
            ]
          },
          "metadata": {},
          "execution_count": 22
        }
      ],
      "id": "-Hy5N0zTKTkN"
    },
    {
      "cell_type": "code",
      "source": [
        "le = LabelEncoder()\n",
        "\n",
        "supp_df.gender = le.fit_transform(supp_df.gender)\n",
        "supp_df.gender.head()"
      ],
      "metadata": {
        "colab": {
          "base_uri": "https://localhost:8080/"
        },
        "id": "CW9kph-2ISZH",
        "outputId": "349250ac-49d2-45af-fc4c-1167f29b8d3e"
      },
      "execution_count": null,
      "outputs": [
        {
          "output_type": "execute_result",
          "data": {
            "text/plain": [
              "0    1\n",
              "1    1\n",
              "2    1\n",
              "3    1\n",
              "4    1\n",
              "Name: gender, dtype: int64"
            ]
          },
          "metadata": {},
          "execution_count": 23
        }
      ],
      "id": "CW9kph-2ISZH"
    },
    {
      "cell_type": "markdown",
      "source": [
        "##### Data Splitting"
      ],
      "metadata": {
        "id": "jr9oS1p9M4Jn"
      },
      "id": "jr9oS1p9M4Jn"
    },
    {
      "cell_type": "code",
      "source": [
        "x = supp_df.drop('gender', axis = 1).values\n",
        "y = supp_df.gender.values"
      ],
      "metadata": {
        "id": "XJmW61S_M5bH"
      },
      "execution_count": null,
      "outputs": [],
      "id": "XJmW61S_M5bH"
    },
    {
      "cell_type": "code",
      "source": [
        "x_train, x_test, y_train, y_test = train_test_split(x, y, test_size = 0.25, random_state = 100)"
      ],
      "metadata": {
        "id": "xPuGONZMM3xn"
      },
      "execution_count": null,
      "outputs": [],
      "id": "xPuGONZMM3xn"
    },
    {
      "cell_type": "code",
      "source": [
        "mm = MinMaxScaler()\n",
        "x_train_norm = mm.fit_transform(x_train)\n",
        "x_test_norm = mm.fit_transform(x_test)"
      ],
      "metadata": {
        "id": "H3_x83hlNZZ_"
      },
      "execution_count": null,
      "outputs": [],
      "id": "H3_x83hlNZZ_"
    },
    {
      "cell_type": "markdown",
      "source": [
        "##### NN Training"
      ],
      "metadata": {
        "id": "WAwkR2dvvi2e"
      },
      "id": "WAwkR2dvvi2e"
    },
    {
      "cell_type": "code",
      "execution_count": null,
      "metadata": {
        "id": "cDO4ub7KXaKS"
      },
      "outputs": [],
      "source": [
        "# Building two layers with size 400 on first and 300 on the second then regulating at .4.\n",
        "\n",
        "model_1 = Sequential()\n",
        "\n",
        "#Building the first hidden layer with size 400\n",
        "model_1.add(Dense(400, activation = 'relu', input_shape = (20, )))\n",
        "\n",
        "#Regulating the first layer at 0.4\n",
        "model_1.add(Dropout(0.4))\n",
        "\n",
        "#Building the second hidden layer with size 300\n",
        "model_1.add(Dense(300, activation = 'relu'))\n",
        "\n",
        "#Regulating the first layer at 0.4\n",
        "model_1.add(Dropout(0.4))\n",
        "\n",
        "#Building the output layer with size 10, taking the values of y\n",
        "model_1.add(Dense(1, activation = 'sigmoid'))"
      ],
      "id": "cDO4ub7KXaKS"
    },
    {
      "cell_type": "code",
      "source": [
        "#Displaying the details of the model_1\n",
        "model_1.summary()"
      ],
      "metadata": {
        "colab": {
          "base_uri": "https://localhost:8080/"
        },
        "id": "xv-F7mVYl0ie",
        "outputId": "8d6fb982-6e33-42d6-8126-930c75997d47"
      },
      "execution_count": null,
      "outputs": [
        {
          "output_type": "stream",
          "name": "stdout",
          "text": [
            "Model: \"sequential_4\"\n",
            "_________________________________________________________________\n",
            " Layer (type)                Output Shape              Param #   \n",
            "=================================================================\n",
            " dense_12 (Dense)            (None, 400)               8400      \n",
            "                                                                 \n",
            " dropout_8 (Dropout)         (None, 400)               0         \n",
            "                                                                 \n",
            " dense_13 (Dense)            (None, 300)               120300    \n",
            "                                                                 \n",
            " dropout_9 (Dropout)         (None, 300)               0         \n",
            "                                                                 \n",
            " dense_14 (Dense)            (None, 1)                 301       \n",
            "                                                                 \n",
            "=================================================================\n",
            "Total params: 129001 (503.91 KB)\n",
            "Trainable params: 129001 (503.91 KB)\n",
            "Non-trainable params: 0 (0.00 Byte)\n",
            "_________________________________________________________________\n"
          ]
        }
      ],
      "id": "xv-F7mVYl0ie"
    },
    {
      "cell_type": "markdown",
      "source": [
        "###### How many parameters does your model have? How does it compare with the previous model?\n",
        "\n",
        "Model_1 has 437310 parameters while model has has 669706 using the MNIST dataset. The model_1 specifically has lesser parameter than model because of the number of neurons given to each layers. For model, it has 512 neurons each layer resulting to\n",
        "\n",
        "    model's total params =  (512 [Layer 1 neurons] * 784 [input_shape] + 512 [Bias])\n",
        "    \n",
        "                            + (512 [Layer 2 neurons] * 512 [input_shape] + 512 [Bias])\n",
        "    \n",
        "                            + (10 [output neurons] * 512 [input_shape] + 10 [bias])\n",
        "\n",
        "                          = 669706\n",
        "\n",
        "while\n",
        "\n",
        "    model_1's total params = (400 [Layer 1 neurons] * 784 [input_shape] + 400 [Bias])\n",
        "    \n",
        "                            + (300 [Layer 2 neurons] * 400 [input_shape] + 300 [Bias])\n",
        "    \n",
        "                            + (10 [output neurons] * 300 [input_shape] + 10 [bias])\n",
        "\n",
        "                          = 437310"
      ],
      "metadata": {
        "id": "OKjFKhmelU31"
      },
      "id": "OKjFKhmelU31"
    },
    {
      "cell_type": "code",
      "source": [
        "# Train this model for 20 epochs with RMSProp at a learning rate of .001 and a batch size of 128\n",
        "\n",
        "model_1.compile(\n",
        "    loss = 'binary_crossentropy',\n",
        "    optimizer = RMSprop(lr = 0.001),\n",
        "    metrics = ['accuracy']\n",
        ")\n",
        "\n",
        "hist_1 = model_1.fit(\n",
        "    x_train,\n",
        "    y_train,\n",
        "    batch_size = 64,\n",
        "    epochs = 20,\n",
        "    verbose = 1,\n",
        "    validation_data = (x_test, y_test)\n",
        ")"
      ],
      "metadata": {
        "colab": {
          "base_uri": "https://localhost:8080/"
        },
        "id": "sg2LvpUokv93",
        "outputId": "f3385a5b-3810-40e7-d715-67596bb13f27"
      },
      "execution_count": null,
      "outputs": [
        {
          "output_type": "stream",
          "name": "stderr",
          "text": [
            "WARNING:absl:`lr` is deprecated in Keras optimizer, please use `learning_rate` or use the legacy optimizer, e.g.,tf.keras.optimizers.legacy.RMSprop.\n"
          ]
        },
        {
          "output_type": "stream",
          "name": "stdout",
          "text": [
            "Epoch 1/20\n",
            "38/38 [==============================] - 1s 11ms/step - loss: 1.4898 - accuracy: 0.5130 - val_loss: 1.1361 - val_accuracy: 0.6124\n",
            "Epoch 2/20\n",
            "38/38 [==============================] - 0s 10ms/step - loss: 1.2461 - accuracy: 0.5779 - val_loss: 0.8280 - val_accuracy: 0.5202\n",
            "Epoch 3/20\n",
            "38/38 [==============================] - 0s 10ms/step - loss: 1.1924 - accuracy: 0.6027 - val_loss: 0.9067 - val_accuracy: 0.6427\n",
            "Epoch 4/20\n",
            "38/38 [==============================] - 0s 8ms/step - loss: 0.9870 - accuracy: 0.6322 - val_loss: 0.7234 - val_accuracy: 0.6717\n",
            "Epoch 5/20\n",
            "38/38 [==============================] - 0s 10ms/step - loss: 0.8472 - accuracy: 0.6646 - val_loss: 0.8624 - val_accuracy: 0.6705\n",
            "Epoch 6/20\n",
            "38/38 [==============================] - 0s 10ms/step - loss: 0.9387 - accuracy: 0.6835 - val_loss: 0.9932 - val_accuracy: 0.6313\n",
            "Epoch 7/20\n",
            "38/38 [==============================] - 0s 9ms/step - loss: 0.8870 - accuracy: 0.7066 - val_loss: 0.5847 - val_accuracy: 0.7071\n",
            "Epoch 8/20\n",
            "38/38 [==============================] - 0s 10ms/step - loss: 0.8260 - accuracy: 0.7117 - val_loss: 0.7679 - val_accuracy: 0.7184\n",
            "Epoch 9/20\n",
            "38/38 [==============================] - 0s 10ms/step - loss: 0.7822 - accuracy: 0.7222 - val_loss: 0.6820 - val_accuracy: 0.7184\n",
            "Epoch 10/20\n",
            "38/38 [==============================] - 0s 8ms/step - loss: 0.7639 - accuracy: 0.7256 - val_loss: 0.6494 - val_accuracy: 0.7513\n",
            "Epoch 11/20\n",
            "38/38 [==============================] - 0s 5ms/step - loss: 0.6800 - accuracy: 0.7319 - val_loss: 0.7642 - val_accuracy: 0.6515\n",
            "Epoch 12/20\n",
            "38/38 [==============================] - 0s 7ms/step - loss: 0.6635 - accuracy: 0.7445 - val_loss: 0.6173 - val_accuracy: 0.7614\n",
            "Epoch 13/20\n",
            "38/38 [==============================] - 0s 5ms/step - loss: 0.6780 - accuracy: 0.7567 - val_loss: 0.6883 - val_accuracy: 0.7778\n",
            "Epoch 14/20\n",
            "38/38 [==============================] - 0s 6ms/step - loss: 0.5801 - accuracy: 0.7710 - val_loss: 0.6551 - val_accuracy: 0.7538\n",
            "Epoch 15/20\n",
            "38/38 [==============================] - 0s 6ms/step - loss: 0.5949 - accuracy: 0.7757 - val_loss: 0.5407 - val_accuracy: 0.8043\n",
            "Epoch 16/20\n",
            "38/38 [==============================] - 0s 6ms/step - loss: 0.5319 - accuracy: 0.7879 - val_loss: 0.5154 - val_accuracy: 0.8081\n",
            "Epoch 17/20\n",
            "38/38 [==============================] - 0s 6ms/step - loss: 0.5537 - accuracy: 0.7963 - val_loss: 0.4997 - val_accuracy: 0.8081\n",
            "Epoch 18/20\n",
            "38/38 [==============================] - 0s 6ms/step - loss: 0.4869 - accuracy: 0.8047 - val_loss: 0.6164 - val_accuracy: 0.7576\n",
            "Epoch 19/20\n",
            "38/38 [==============================] - 0s 5ms/step - loss: 0.5028 - accuracy: 0.8047 - val_loss: 0.5334 - val_accuracy: 0.7702\n",
            "Epoch 20/20\n",
            "38/38 [==============================] - 0s 7ms/step - loss: 0.5112 - accuracy: 0.8194 - val_loss: 0.4832 - val_accuracy: 0.8232\n"
          ]
        }
      ],
      "id": "sg2LvpUokv93"
    },
    {
      "cell_type": "code",
      "source": [
        "score_1 = model_1.evaluate(x_test, y_test, verbose=0)\n",
        "print('Test loss:', score_1[0])\n",
        "print('Test accuracy:', score_1[1])"
      ],
      "metadata": {
        "colab": {
          "base_uri": "https://localhost:8080/"
        },
        "id": "890YDAZ3sEOi",
        "outputId": "e03c8a8e-611b-42c8-9825-cbce0613a53b"
      },
      "execution_count": null,
      "outputs": [
        {
          "output_type": "stream",
          "name": "stdout",
          "text": [
            "Test loss: 0.48316308856010437\n",
            "Test accuracy: 0.8232323527336121\n"
          ]
        }
      ],
      "id": "890YDAZ3sEOi"
    },
    {
      "cell_type": "code",
      "source": [
        "plot_loss_accuracy(hist_1)"
      ],
      "metadata": {
        "colab": {
          "base_uri": "https://localhost:8080/",
          "height": 545
        },
        "id": "vkss9DQgsykv",
        "outputId": "f6b38b0a-430a-42fb-bbed-b443fee6b489"
      },
      "execution_count": null,
      "outputs": [
        {
          "output_type": "display_data",
          "data": {
            "text/plain": [
              "<Figure size 1200x600 with 2 Axes>"
            ],
            "image/png": "[encoded data removed]"
          },
          "metadata": {}
        }
      ],
      "id": "vkss9DQgsykv"
    },
    {
      "cell_type": "markdown",
      "source": [
        "##### Use at least two regularization techniques and apply it to the new model (model_2)"
      ],
      "metadata": {
        "id": "yqKWrQAZXkg7"
      },
      "id": "yqKWrQAZXkg7"
    },
    {
      "cell_type": "code",
      "source": [
        "# Building two layers with size 400 on first and 300 on the second then regulating at .4.\n",
        "\n",
        "model_2 = Sequential()\n",
        "\n",
        "#Building the first hidden layer with size 400\n",
        "model_2.add(Dense(400, activation = 'relu', input_shape = (20, ), kernel_regularizer = regularizers.l1(0.001)))\n",
        "\n",
        "#Regulating the first layer at 0.4\n",
        "model_2.add(Dropout(0.4))\n",
        "\n",
        "#Building the second hidden layer with size 300\n",
        "model_2.add(Dense(300, activation = 'relu', kernel_regularizer = regularizers.l1(0.001)))\n",
        "\n",
        "#Regulating the first layer at 0.4\n",
        "model_2.add(Dropout(0.4))\n",
        "\n",
        "#Building the output layer with size 10, taking the values of y\n",
        "model_2.add(Dense(1, activation = 'sigmoid',  kernel_regularizer = regularizers.l1(0.001)))"
      ],
      "metadata": {
        "id": "VP0eDDBGXkFn"
      },
      "id": "VP0eDDBGXkFn",
      "execution_count": null,
      "outputs": []
    },
    {
      "cell_type": "code",
      "source": [
        "# Train this model for 20 epochs with RMSProp at a learning rate of .001 and a batch size of 128\n",
        "\n",
        "model_2.compile(\n",
        "    loss = 'binary_crossentropy',\n",
        "    optimizer = RMSprop(lr = 0.001),\n",
        "    metrics = ['accuracy']\n",
        ")\n",
        "\n",
        "hist_2 = model_2.fit(\n",
        "    x_train,\n",
        "    y_train,\n",
        "    batch_size = 128,\n",
        "    epochs = 20,\n",
        "    verbose = 1,\n",
        "    validation_data = (x_test, y_test)\n",
        ")"
      ],
      "metadata": {
        "colab": {
          "base_uri": "https://localhost:8080/"
        },
        "id": "nn4vdaGGXxQD",
        "outputId": "d738043d-a902-4d64-91c6-0c71803b105e"
      },
      "id": "nn4vdaGGXxQD",
      "execution_count": null,
      "outputs": [
        {
          "output_type": "stream",
          "name": "stderr",
          "text": [
            "WARNING:absl:`lr` is deprecated in Keras optimizer, please use `learning_rate` or use the legacy optimizer, e.g.,tf.keras.optimizers.legacy.RMSprop.\n"
          ]
        },
        {
          "output_type": "stream",
          "name": "stdout",
          "text": [
            "Epoch 1/20\n",
            "19/19 [==============================] - 1s 18ms/step - loss: 7.0845 - accuracy: 0.5021 - val_loss: 5.6541 - val_accuracy: 0.5013\n",
            "Epoch 2/20\n",
            "19/19 [==============================] - 0s 8ms/step - loss: 5.4663 - accuracy: 0.5139 - val_loss: 4.4874 - val_accuracy: 0.5000\n",
            "Epoch 3/20\n",
            "19/19 [==============================] - 0s 8ms/step - loss: 4.4983 - accuracy: 0.5434 - val_loss: 3.8734 - val_accuracy: 0.5126\n",
            "Epoch 4/20\n",
            "19/19 [==============================] - 0s 8ms/step - loss: 3.8931 - accuracy: 0.5543 - val_loss: 3.3261 - val_accuracy: 0.5783\n",
            "Epoch 5/20\n",
            "19/19 [==============================] - 0s 8ms/step - loss: 3.4960 - accuracy: 0.5606 - val_loss: 3.3857 - val_accuracy: 0.6503\n",
            "Epoch 6/20\n",
            "19/19 [==============================] - 0s 9ms/step - loss: 3.1746 - accuracy: 0.5737 - val_loss: 2.9376 - val_accuracy: 0.6187\n",
            "Epoch 7/20\n",
            "19/19 [==============================] - 0s 8ms/step - loss: 2.9397 - accuracy: 0.5816 - val_loss: 3.0109 - val_accuracy: 0.5139\n",
            "Epoch 8/20\n",
            "19/19 [==============================] - 0s 9ms/step - loss: 2.7118 - accuracy: 0.5976 - val_loss: 2.4673 - val_accuracy: 0.6402\n",
            "Epoch 9/20\n",
            "19/19 [==============================] - 0s 9ms/step - loss: 2.4634 - accuracy: 0.6098 - val_loss: 2.3895 - val_accuracy: 0.6111\n",
            "Epoch 10/20\n",
            "19/19 [==============================] - 0s 8ms/step - loss: 2.2671 - accuracy: 0.6098 - val_loss: 2.1003 - val_accuracy: 0.5972\n",
            "Epoch 11/20\n",
            "19/19 [==============================] - 0s 8ms/step - loss: 2.1694 - accuracy: 0.6048 - val_loss: 2.0742 - val_accuracy: 0.5758\n",
            "Epoch 12/20\n",
            "19/19 [==============================] - 0s 8ms/step - loss: 2.1051 - accuracy: 0.6023 - val_loss: 1.8279 - val_accuracy: 0.6629\n",
            "Epoch 13/20\n",
            "19/19 [==============================] - 0s 7ms/step - loss: 1.9550 - accuracy: 0.6376 - val_loss: 2.0063 - val_accuracy: 0.6439\n",
            "Epoch 14/20\n",
            "19/19 [==============================] - 0s 8ms/step - loss: 1.8132 - accuracy: 0.6376 - val_loss: 1.7108 - val_accuracy: 0.5833\n",
            "Epoch 15/20\n",
            "19/19 [==============================] - 0s 10ms/step - loss: 1.7573 - accuracy: 0.6397 - val_loss: 1.5998 - val_accuracy: 0.6313\n",
            "Epoch 16/20\n",
            "19/19 [==============================] - 0s 8ms/step - loss: 1.6341 - accuracy: 0.6469 - val_loss: 1.5447 - val_accuracy: 0.6490\n",
            "Epoch 17/20\n",
            "19/19 [==============================] - 0s 8ms/step - loss: 1.5532 - accuracy: 0.6431 - val_loss: 1.4269 - val_accuracy: 0.6073\n",
            "Epoch 18/20\n",
            "19/19 [==============================] - 0s 9ms/step - loss: 1.4863 - accuracy: 0.6524 - val_loss: 1.4444 - val_accuracy: 0.6591\n",
            "Epoch 19/20\n",
            "19/19 [==============================] - 0s 8ms/step - loss: 1.3628 - accuracy: 0.6524 - val_loss: 1.4122 - val_accuracy: 0.6275\n",
            "Epoch 20/20\n",
            "19/19 [==============================] - 0s 8ms/step - loss: 1.3095 - accuracy: 0.6507 - val_loss: 1.3137 - val_accuracy: 0.6730\n"
          ]
        }
      ]
    },
    {
      "cell_type": "code",
      "source": [
        "score_2 = model_2.evaluate(x_test, y_test, verbose=0)\n",
        "print('Test loss:', score_2[0])\n",
        "print('Test accuracy:', score_2[1])"
      ],
      "metadata": {
        "colab": {
          "base_uri": "https://localhost:8080/"
        },
        "id": "yx9ozNm3X2dp",
        "outputId": "aafcc88a-bb6e-428b-8df7-7c8a5bf415e2"
      },
      "id": "yx9ozNm3X2dp",
      "execution_count": null,
      "outputs": [
        {
          "output_type": "stream",
          "name": "stdout",
          "text": [
            "Test loss: 1.3137102127075195\n",
            "Test accuracy: 0.6729797720909119\n"
          ]
        }
      ]
    },
    {
      "cell_type": "code",
      "source": [
        "plot_loss_accuracy(hist_2)"
      ],
      "metadata": {
        "colab": {
          "base_uri": "https://localhost:8080/",
          "height": 545
        },
        "id": "-B5Hk6gzX7BN",
        "outputId": "b91e2fcf-d3b9-41c5-c5c2-868652ce8826"
      },
      "id": "-B5Hk6gzX7BN",
      "execution_count": null,
      "outputs": [
        {
          "output_type": "display_data",
          "data": {
            "text/plain": [
              "<Figure size 1200x600 with 2 Axes>"
            ],
            "image/png": "[encoded data removed]"
          },
          "metadata": {}
        }
      ]
    },
    {
      "cell_type": "markdown",
      "source": [
        "##### Train this model for your preferred epochs , learning rate, batch size and optimizer"
      ],
      "metadata": {
        "id": "epearvKTdJfu"
      },
      "id": "epearvKTdJfu"
    },
    {
      "cell_type": "code",
      "source": [
        "# Building two layers with size 400 on first and 300 on the second then regulating at .4.\n",
        "\n",
        "model_2 = Sequential()\n",
        "\n",
        "#Building the first hidden layer with size 400\n",
        "model_2.add(Dense(400, activation = 'relu', input_shape = (20, ), kernel_regularizer = regularizers.l1(0.001)))\n",
        "\n",
        "#Regulating the first layer at 0.4\n",
        "model_2.add(Dropout(0.4))\n",
        "\n",
        "#Building the second hidden layer with size 300\n",
        "model_2.add(Dense(300, activation = 'relu', kernel_regularizer = regularizers.l1(0.001)))\n",
        "\n",
        "#Regulating the first layer at 0.4\n",
        "model_2.add(Dropout(0.4))\n",
        "\n",
        "#Building the output layer with size 10, taking the values of y\n",
        "model_2.add(Dense(1, activation = 'sigmoid',  kernel_regularizer = regularizers.l1(0.001)))"
      ],
      "metadata": {
        "id": "9dcTzo5AdRtr"
      },
      "execution_count": null,
      "outputs": [],
      "id": "9dcTzo5AdRtr"
    },
    {
      "cell_type": "code",
      "source": [
        "# Train this model for 20 epochs with RMSProp at a learning rate of .001 and a batch size of 128\n",
        "\n",
        "model_2.compile(\n",
        "    loss = 'binary_crossentropy',\n",
        "    optimizer = Adam(lr = 0.0001),\n",
        "    metrics = ['accuracy']\n",
        ")\n",
        "\n",
        "hist_2 = model_2.fit(\n",
        "    x_train,\n",
        "    y_train,\n",
        "    batch_size = 32,\n",
        "    epochs = 100,\n",
        "    verbose = 1,\n",
        "    validation_data = (x_test, y_test)\n",
        ")"
      ],
      "metadata": {
        "colab": {
          "base_uri": "https://localhost:8080/"
        },
        "outputId": "ba4d0302-4808-46a0-df43-7f49ec809dde",
        "id": "wtS9WtzzdRts"
      },
      "execution_count": null,
      "outputs": [
        {
          "output_type": "stream",
          "name": "stderr",
          "text": [
            "WARNING:absl:`lr` is deprecated in Keras optimizer, please use `learning_rate` or use the legacy optimizer, e.g.,tf.keras.optimizers.legacy.Adam.\n"
          ]
        },
        {
          "output_type": "stream",
          "name": "stdout",
          "text": [
            "Epoch 1/100\n",
            "75/75 [==============================] - 1s 7ms/step - loss: 5.7906 - accuracy: 0.5219 - val_loss: 4.6021 - val_accuracy: 0.5076\n",
            "Epoch 2/100\n",
            "75/75 [==============================] - 0s 5ms/step - loss: 3.9997 - accuracy: 0.5332 - val_loss: 3.2429 - val_accuracy: 0.5076\n",
            "Epoch 3/100\n",
            "75/75 [==============================] - 0s 4ms/step - loss: 3.4431 - accuracy: 0.5316 - val_loss: 3.1168 - val_accuracy: 0.6326\n",
            "Epoch 4/100\n",
            "75/75 [==============================] - 0s 5ms/step - loss: 3.1382 - accuracy: 0.5682 - val_loss: 2.6604 - val_accuracy: 0.5164\n",
            "Epoch 5/100\n",
            "75/75 [==============================] - 0s 5ms/step - loss: 2.6799 - accuracy: 0.5673 - val_loss: 2.4663 - val_accuracy: 0.5896\n",
            "Epoch 6/100\n",
            "75/75 [==============================] - 0s 5ms/step - loss: 2.4866 - accuracy: 0.6019 - val_loss: 2.3345 - val_accuracy: 0.6098\n",
            "Epoch 7/100\n",
            "75/75 [==============================] - 0s 5ms/step - loss: 2.3723 - accuracy: 0.6069 - val_loss: 2.4310 - val_accuracy: 0.6149\n",
            "Epoch 8/100\n",
            "75/75 [==============================] - 0s 5ms/step - loss: 2.2921 - accuracy: 0.6006 - val_loss: 2.0487 - val_accuracy: 0.6641\n",
            "Epoch 9/100\n",
            "75/75 [==============================] - 0s 5ms/step - loss: 2.0249 - accuracy: 0.6288 - val_loss: 1.9353 - val_accuracy: 0.6578\n",
            "Epoch 10/100\n",
            "75/75 [==============================] - 0s 6ms/step - loss: 1.9518 - accuracy: 0.6229 - val_loss: 1.8531 - val_accuracy: 0.6452\n",
            "Epoch 11/100\n",
            "75/75 [==============================] - 0s 5ms/step - loss: 1.8454 - accuracy: 0.6309 - val_loss: 1.7684 - val_accuracy: 0.6616\n",
            "Epoch 12/100\n",
            "75/75 [==============================] - 0s 5ms/step - loss: 1.7654 - accuracy: 0.6389 - val_loss: 1.6889 - val_accuracy: 0.6717\n",
            "Epoch 13/100\n",
            "75/75 [==============================] - 0s 5ms/step - loss: 1.6567 - accuracy: 0.6406 - val_loss: 1.6040 - val_accuracy: 0.6705\n",
            "Epoch 14/100\n",
            "75/75 [==============================] - 0s 5ms/step - loss: 1.5798 - accuracy: 0.6528 - val_loss: 1.5368 - val_accuracy: 0.6742\n",
            "Epoch 15/100\n",
            "75/75 [==============================] - 0s 5ms/step - loss: 1.5115 - accuracy: 0.6578 - val_loss: 1.4747 - val_accuracy: 0.6616\n",
            "Epoch 16/100\n",
            "75/75 [==============================] - 0s 5ms/step - loss: 1.4553 - accuracy: 0.6641 - val_loss: 1.4174 - val_accuracy: 0.6705\n",
            "Epoch 17/100\n",
            "75/75 [==============================] - 0s 5ms/step - loss: 1.3953 - accuracy: 0.6578 - val_loss: 1.3622 - val_accuracy: 0.6679\n",
            "Epoch 18/100\n",
            "75/75 [==============================] - 0s 5ms/step - loss: 1.3399 - accuracy: 0.6692 - val_loss: 1.3080 - val_accuracy: 0.6692\n",
            "Epoch 19/100\n",
            "75/75 [==============================] - 0s 5ms/step - loss: 1.2921 - accuracy: 0.6646 - val_loss: 1.2606 - val_accuracy: 0.6768\n",
            "Epoch 20/100\n",
            "75/75 [==============================] - 0s 5ms/step - loss: 1.2494 - accuracy: 0.6662 - val_loss: 1.2175 - val_accuracy: 0.6679\n",
            "Epoch 21/100\n",
            "75/75 [==============================] - 0s 5ms/step - loss: 1.1954 - accuracy: 0.6625 - val_loss: 1.1773 - val_accuracy: 0.6793\n",
            "Epoch 22/100\n",
            "75/75 [==============================] - 1s 8ms/step - loss: 1.1603 - accuracy: 0.6776 - val_loss: 1.1356 - val_accuracy: 0.6679\n",
            "Epoch 23/100\n",
            "75/75 [==============================] - 1s 8ms/step - loss: 1.1243 - accuracy: 0.6772 - val_loss: 1.0994 - val_accuracy: 0.6705\n",
            "Epoch 24/100\n",
            "75/75 [==============================] - 1s 10ms/step - loss: 1.0789 - accuracy: 0.6831 - val_loss: 1.0601 - val_accuracy: 0.6717\n",
            "Epoch 25/100\n",
            "75/75 [==============================] - 1s 9ms/step - loss: 1.0544 - accuracy: 0.6806 - val_loss: 1.0326 - val_accuracy: 0.6806\n",
            "Epoch 26/100\n",
            "75/75 [==============================] - 1s 10ms/step - loss: 1.0139 - accuracy: 0.6915 - val_loss: 0.9942 - val_accuracy: 0.6881\n",
            "Epoch 27/100\n",
            "75/75 [==============================] - 0s 5ms/step - loss: 0.9826 - accuracy: 0.6898 - val_loss: 0.9739 - val_accuracy: 0.6869\n",
            "Epoch 28/100\n",
            "75/75 [==============================] - 0s 5ms/step - loss: 0.9589 - accuracy: 0.7003 - val_loss: 0.9379 - val_accuracy: 0.6944\n",
            "Epoch 29/100\n",
            "75/75 [==============================] - 0s 5ms/step - loss: 0.9273 - accuracy: 0.7024 - val_loss: 0.9192 - val_accuracy: 0.6944\n",
            "Epoch 30/100\n",
            "75/75 [==============================] - 0s 6ms/step - loss: 0.9068 - accuracy: 0.7088 - val_loss: 0.8899 - val_accuracy: 0.7260\n",
            "Epoch 31/100\n",
            "75/75 [==============================] - 0s 6ms/step - loss: 0.8772 - accuracy: 0.7058 - val_loss: 0.8698 - val_accuracy: 0.6982\n",
            "Epoch 32/100\n",
            "75/75 [==============================] - 0s 6ms/step - loss: 0.8656 - accuracy: 0.7088 - val_loss: 0.8512 - val_accuracy: 0.7235\n",
            "Epoch 33/100\n",
            "75/75 [==============================] - 0s 5ms/step - loss: 0.8335 - accuracy: 0.7168 - val_loss: 0.8230 - val_accuracy: 0.7323\n",
            "Epoch 34/100\n",
            "75/75 [==============================] - 0s 5ms/step - loss: 0.8155 - accuracy: 0.7033 - val_loss: 0.7985 - val_accuracy: 0.7222\n",
            "Epoch 35/100\n",
            "75/75 [==============================] - 0s 6ms/step - loss: 0.8069 - accuracy: 0.7159 - val_loss: 0.7918 - val_accuracy: 0.7348\n",
            "Epoch 36/100\n",
            "75/75 [==============================] - 0s 5ms/step - loss: 0.7872 - accuracy: 0.7210 - val_loss: 0.7672 - val_accuracy: 0.7399\n",
            "Epoch 37/100\n",
            "75/75 [==============================] - 0s 5ms/step - loss: 0.7799 - accuracy: 0.7231 - val_loss: 0.7537 - val_accuracy: 0.7500\n",
            "Epoch 38/100\n",
            "75/75 [==============================] - 0s 5ms/step - loss: 0.7642 - accuracy: 0.7260 - val_loss: 0.7485 - val_accuracy: 0.7475\n",
            "Epoch 39/100\n",
            "75/75 [==============================] - 0s 5ms/step - loss: 0.7417 - accuracy: 0.7365 - val_loss: 0.7322 - val_accuracy: 0.7437\n",
            "Epoch 40/100\n",
            "75/75 [==============================] - 0s 5ms/step - loss: 0.7245 - accuracy: 0.7357 - val_loss: 0.7094 - val_accuracy: 0.7588\n",
            "Epoch 41/100\n",
            "75/75 [==============================] - 0s 5ms/step - loss: 0.7055 - accuracy: 0.7365 - val_loss: 0.6971 - val_accuracy: 0.7538\n",
            "Epoch 42/100\n",
            "75/75 [==============================] - 0s 5ms/step - loss: 0.6971 - accuracy: 0.7416 - val_loss: 0.6905 - val_accuracy: 0.7601\n",
            "Epoch 43/100\n",
            "75/75 [==============================] - 0s 5ms/step - loss: 0.6860 - accuracy: 0.7479 - val_loss: 0.6771 - val_accuracy: 0.7753\n",
            "Epoch 44/100\n",
            "75/75 [==============================] - 0s 5ms/step - loss: 0.6697 - accuracy: 0.7546 - val_loss: 0.6610 - val_accuracy: 0.7689\n",
            "Epoch 45/100\n",
            "75/75 [==============================] - 0s 5ms/step - loss: 0.6703 - accuracy: 0.7525 - val_loss: 0.7587 - val_accuracy: 0.7462\n",
            "Epoch 46/100\n",
            "75/75 [==============================] - 0s 5ms/step - loss: 0.6874 - accuracy: 0.7483 - val_loss: 0.6435 - val_accuracy: 0.7816\n",
            "Epoch 47/100\n",
            "75/75 [==============================] - 0s 5ms/step - loss: 0.6604 - accuracy: 0.7588 - val_loss: 0.6300 - val_accuracy: 0.7828\n",
            "Epoch 48/100\n",
            "75/75 [==============================] - 0s 5ms/step - loss: 0.6523 - accuracy: 0.7584 - val_loss: 0.6582 - val_accuracy: 0.7803\n",
            "Epoch 49/100\n",
            "75/75 [==============================] - 0s 5ms/step - loss: 0.6508 - accuracy: 0.7492 - val_loss: 0.6338 - val_accuracy: 0.7778\n",
            "Epoch 50/100\n",
            "75/75 [==============================] - 0s 5ms/step - loss: 0.6341 - accuracy: 0.7715 - val_loss: 0.6153 - val_accuracy: 0.7866\n",
            "Epoch 51/100\n",
            "75/75 [==============================] - 0s 5ms/step - loss: 0.6241 - accuracy: 0.7668 - val_loss: 0.6067 - val_accuracy: 0.7866\n",
            "Epoch 52/100\n",
            "75/75 [==============================] - 1s 8ms/step - loss: 0.6134 - accuracy: 0.7757 - val_loss: 0.5970 - val_accuracy: 0.7854\n",
            "Epoch 53/100\n",
            "75/75 [==============================] - 1s 9ms/step - loss: 0.6112 - accuracy: 0.7660 - val_loss: 0.6051 - val_accuracy: 0.7740\n",
            "Epoch 54/100\n",
            "75/75 [==============================] - 1s 9ms/step - loss: 0.6055 - accuracy: 0.7740 - val_loss: 0.5926 - val_accuracy: 0.7904\n",
            "Epoch 55/100\n",
            "75/75 [==============================] - 1s 9ms/step - loss: 0.5993 - accuracy: 0.7832 - val_loss: 0.5804 - val_accuracy: 0.7992\n",
            "Epoch 56/100\n",
            "75/75 [==============================] - 1s 10ms/step - loss: 0.5942 - accuracy: 0.7765 - val_loss: 0.5736 - val_accuracy: 0.8005\n",
            "Epoch 57/100\n",
            "75/75 [==============================] - 0s 5ms/step - loss: 0.5970 - accuracy: 0.7795 - val_loss: 0.5647 - val_accuracy: 0.7955\n",
            "Epoch 58/100\n",
            "75/75 [==============================] - 0s 5ms/step - loss: 0.5696 - accuracy: 0.7769 - val_loss: 0.5590 - val_accuracy: 0.8043\n",
            "Epoch 59/100\n",
            "75/75 [==============================] - 0s 5ms/step - loss: 0.5875 - accuracy: 0.7782 - val_loss: 0.5801 - val_accuracy: 0.7967\n",
            "Epoch 60/100\n",
            "75/75 [==============================] - 0s 5ms/step - loss: 0.5837 - accuracy: 0.7706 - val_loss: 0.5538 - val_accuracy: 0.8043\n",
            "Epoch 61/100\n",
            "75/75 [==============================] - 0s 5ms/step - loss: 0.5656 - accuracy: 0.7887 - val_loss: 0.5479 - val_accuracy: 0.8018\n",
            "Epoch 62/100\n",
            "75/75 [==============================] - 0s 5ms/step - loss: 0.5741 - accuracy: 0.7837 - val_loss: 0.5413 - val_accuracy: 0.8068\n",
            "Epoch 63/100\n",
            "75/75 [==============================] - 0s 6ms/step - loss: 0.5594 - accuracy: 0.7963 - val_loss: 0.5600 - val_accuracy: 0.7992\n",
            "Epoch 64/100\n",
            "75/75 [==============================] - 0s 5ms/step - loss: 0.5532 - accuracy: 0.7875 - val_loss: 0.5406 - val_accuracy: 0.8081\n",
            "Epoch 65/100\n",
            "75/75 [==============================] - 0s 5ms/step - loss: 0.5607 - accuracy: 0.7946 - val_loss: 0.5294 - val_accuracy: 0.8119\n",
            "Epoch 66/100\n",
            "75/75 [==============================] - 0s 5ms/step - loss: 0.5549 - accuracy: 0.7828 - val_loss: 0.5307 - val_accuracy: 0.8131\n",
            "Epoch 67/100\n",
            "75/75 [==============================] - 0s 5ms/step - loss: 0.5558 - accuracy: 0.7908 - val_loss: 0.5448 - val_accuracy: 0.7967\n",
            "Epoch 68/100\n",
            "75/75 [==============================] - 0s 5ms/step - loss: 0.5469 - accuracy: 0.7921 - val_loss: 0.5199 - val_accuracy: 0.8245\n",
            "Epoch 69/100\n",
            "75/75 [==============================] - 0s 5ms/step - loss: 0.5588 - accuracy: 0.7904 - val_loss: 0.5322 - val_accuracy: 0.8157\n",
            "Epoch 70/100\n",
            "75/75 [==============================] - 0s 5ms/step - loss: 0.5566 - accuracy: 0.7854 - val_loss: 0.5178 - val_accuracy: 0.8245\n",
            "Epoch 71/100\n",
            "75/75 [==============================] - 0s 5ms/step - loss: 0.5428 - accuracy: 0.7925 - val_loss: 0.5292 - val_accuracy: 0.8119\n",
            "Epoch 72/100\n",
            "75/75 [==============================] - 0s 5ms/step - loss: 0.5340 - accuracy: 0.7980 - val_loss: 0.5152 - val_accuracy: 0.8270\n",
            "Epoch 73/100\n",
            "75/75 [==============================] - 0s 5ms/step - loss: 0.5270 - accuracy: 0.8077 - val_loss: 0.5011 - val_accuracy: 0.8283\n",
            "Epoch 74/100\n",
            "75/75 [==============================] - 0s 6ms/step - loss: 0.5198 - accuracy: 0.8127 - val_loss: 0.5046 - val_accuracy: 0.8346\n",
            "Epoch 75/100\n",
            "75/75 [==============================] - 0s 5ms/step - loss: 0.5192 - accuracy: 0.8102 - val_loss: 0.5160 - val_accuracy: 0.8295\n",
            "Epoch 76/100\n",
            "75/75 [==============================] - 0s 5ms/step - loss: 0.5309 - accuracy: 0.8110 - val_loss: 0.4909 - val_accuracy: 0.8396\n",
            "Epoch 77/100\n",
            "75/75 [==============================] - 0s 5ms/step - loss: 0.5261 - accuracy: 0.8102 - val_loss: 0.4891 - val_accuracy: 0.8396\n",
            "Epoch 78/100\n",
            "75/75 [==============================] - 0s 5ms/step - loss: 0.5184 - accuracy: 0.8165 - val_loss: 0.4935 - val_accuracy: 0.8359\n",
            "Epoch 79/100\n",
            "75/75 [==============================] - 0s 5ms/step - loss: 0.5330 - accuracy: 0.8106 - val_loss: 0.5061 - val_accuracy: 0.8359\n",
            "Epoch 80/100\n",
            "75/75 [==============================] - 0s 5ms/step - loss: 0.5105 - accuracy: 0.8173 - val_loss: 0.4794 - val_accuracy: 0.8472\n",
            "Epoch 81/100\n",
            "75/75 [==============================] - 0s 5ms/step - loss: 0.5012 - accuracy: 0.8152 - val_loss: 0.4736 - val_accuracy: 0.8548\n",
            "Epoch 82/100\n",
            "75/75 [==============================] - 1s 7ms/step - loss: 0.5180 - accuracy: 0.8140 - val_loss: 0.4693 - val_accuracy: 0.8573\n",
            "Epoch 83/100\n",
            "75/75 [==============================] - 1s 9ms/step - loss: 0.4943 - accuracy: 0.8245 - val_loss: 0.4688 - val_accuracy: 0.8561\n",
            "Epoch 84/100\n",
            "75/75 [==============================] - 1s 9ms/step - loss: 0.4947 - accuracy: 0.8295 - val_loss: 0.4511 - val_accuracy: 0.8611\n",
            "Epoch 85/100\n",
            "75/75 [==============================] - 1s 9ms/step - loss: 0.4903 - accuracy: 0.8224 - val_loss: 0.4611 - val_accuracy: 0.8598\n",
            "Epoch 86/100\n",
            "75/75 [==============================] - 1s 9ms/step - loss: 0.4953 - accuracy: 0.8304 - val_loss: 0.4586 - val_accuracy: 0.8611\n",
            "Epoch 87/100\n",
            "75/75 [==============================] - 1s 8ms/step - loss: 0.4998 - accuracy: 0.8258 - val_loss: 0.4543 - val_accuracy: 0.8737\n",
            "Epoch 88/100\n",
            "75/75 [==============================] - 0s 5ms/step - loss: 0.4897 - accuracy: 0.8338 - val_loss: 0.4473 - val_accuracy: 0.8775\n",
            "Epoch 89/100\n",
            "75/75 [==============================] - 0s 5ms/step - loss: 0.4949 - accuracy: 0.8312 - val_loss: 0.4418 - val_accuracy: 0.8699\n",
            "Epoch 90/100\n",
            "75/75 [==============================] - 0s 5ms/step - loss: 0.4850 - accuracy: 0.8401 - val_loss: 0.4301 - val_accuracy: 0.8775\n",
            "Epoch 91/100\n",
            "75/75 [==============================] - 0s 5ms/step - loss: 0.4868 - accuracy: 0.8367 - val_loss: 0.4316 - val_accuracy: 0.8775\n",
            "Epoch 92/100\n",
            "75/75 [==============================] - 0s 6ms/step - loss: 0.4906 - accuracy: 0.8211 - val_loss: 0.4376 - val_accuracy: 0.8763\n",
            "Epoch 93/100\n",
            "75/75 [==============================] - 0s 5ms/step - loss: 0.4833 - accuracy: 0.8338 - val_loss: 0.4221 - val_accuracy: 0.8725\n",
            "Epoch 94/100\n",
            "75/75 [==============================] - 0s 5ms/step - loss: 0.4661 - accuracy: 0.8418 - val_loss: 0.4338 - val_accuracy: 0.8763\n",
            "Epoch 95/100\n",
            "75/75 [==============================] - 0s 5ms/step - loss: 0.4790 - accuracy: 0.8401 - val_loss: 0.4172 - val_accuracy: 0.8775\n",
            "Epoch 96/100\n",
            "75/75 [==============================] - 0s 5ms/step - loss: 0.4693 - accuracy: 0.8401 - val_loss: 0.4142 - val_accuracy: 0.8838\n",
            "Epoch 97/100\n",
            "75/75 [==============================] - 0s 6ms/step - loss: 0.4489 - accuracy: 0.8531 - val_loss: 0.4030 - val_accuracy: 0.8876\n",
            "Epoch 98/100\n",
            "75/75 [==============================] - 0s 5ms/step - loss: 0.4611 - accuracy: 0.8464 - val_loss: 0.4073 - val_accuracy: 0.8914\n",
            "Epoch 99/100\n",
            "75/75 [==============================] - 0s 5ms/step - loss: 0.4549 - accuracy: 0.8502 - val_loss: 0.4010 - val_accuracy: 0.8902\n",
            "Epoch 100/100\n",
            "75/75 [==============================] - 0s 5ms/step - loss: 0.4593 - accuracy: 0.8384 - val_loss: 0.4014 - val_accuracy: 0.8838\n"
          ]
        }
      ],
      "id": "wtS9WtzzdRts"
    },
    {
      "cell_type": "code",
      "source": [
        "score_2 = model_2.evaluate(x_test, y_test, verbose=0)\n",
        "print('Test loss:', score_2[0])\n",
        "print('Test accuracy:', score_2[1])"
      ],
      "metadata": {
        "colab": {
          "base_uri": "https://localhost:8080/"
        },
        "outputId": "6e6050ce-3199-4310-a953-354eb6c6930f",
        "id": "9HNKJdFCdRts"
      },
      "execution_count": null,
      "outputs": [
        {
          "output_type": "stream",
          "name": "stdout",
          "text": [
            "Test loss: 0.4013897776603699\n",
            "Test accuracy: 0.8838383555412292\n"
          ]
        }
      ],
      "id": "9HNKJdFCdRts"
    },
    {
      "cell_type": "code",
      "source": [
        "plot_loss_accuracy(hist_2)"
      ],
      "metadata": {
        "colab": {
          "base_uri": "https://localhost:8080/",
          "height": 545
        },
        "outputId": "0fcf3c1b-9d84-4eb3-dbed-07f8f74cb24e",
        "id": "qzW_tqSZdRts"
      },
      "execution_count": null,
      "outputs": [
        {
          "output_type": "display_data",
          "data": {
            "text/plain": [
              "<Figure size 1200x600 with 2 Axes>"
            ],
            "image/png": "[encoded data removed]"
          },
          "metadata": {}
        }
      ],
      "id": "qzW_tqSZdRts"
    },
    {
      "cell_type": "code",
      "source": [],
      "metadata": {
        "id": "3q065EufdNg6"
      },
      "id": "3q065EufdNg6",
      "execution_count": null,
      "outputs": []
    },
    {
      "cell_type": "markdown",
      "source": [
        "##### Trial 1"
      ],
      "metadata": {
        "id": "9tEhGM3LjdsR"
      },
      "id": "9tEhGM3LjdsR"
    },
    {
      "cell_type": "code",
      "source": [
        "# Train this model for 20 epochs with RMSProp at a learning rate of .001 and a batch size of 128\n",
        "\n",
        "model_2.compile(\n",
        "    loss = 'binary_crossentropy',\n",
        "    optimizer = Adam(lr = 0.0001),\n",
        "    metrics = ['accuracy']\n",
        ")\n",
        "\n",
        "hist_2 = model_2.fit(\n",
        "    x_train,\n",
        "    y_train,\n",
        "    batch_size = 256,\n",
        "    epochs = 75,\n",
        "    verbose = 1,\n",
        "    validation_data = (x_test, y_test)\n",
        ")"
      ],
      "metadata": {
        "colab": {
          "base_uri": "https://localhost:8080/"
        },
        "outputId": "56bb14b9-c482-49df-e72e-6e0fadc331ee",
        "id": "o4EwkdFYqtQW"
      },
      "execution_count": null,
      "outputs": [
        {
          "output_type": "stream",
          "name": "stderr",
          "text": [
            "WARNING:absl:`lr` is deprecated in Keras optimizer, please use `learning_rate` or use the legacy optimizer, e.g.,tf.keras.optimizers.legacy.Adam.\n"
          ]
        },
        {
          "output_type": "stream",
          "name": "stdout",
          "text": [
            "Epoch 1/75\n",
            "10/10 [==============================] - 2s 33ms/step - loss: 0.4062 - accuracy: 0.9234 - val_loss: 0.3736 - val_accuracy: 0.9470\n",
            "Epoch 2/75\n",
            "10/10 [==============================] - 0s 14ms/step - loss: 0.3934 - accuracy: 0.9192 - val_loss: 0.3642 - val_accuracy: 0.9280\n",
            "Epoch 3/75\n",
            "10/10 [==============================] - 0s 13ms/step - loss: 0.3757 - accuracy: 0.9263 - val_loss: 0.3448 - val_accuracy: 0.9470\n",
            "Epoch 4/75\n",
            "10/10 [==============================] - 0s 13ms/step - loss: 0.3809 - accuracy: 0.9192 - val_loss: 0.3496 - val_accuracy: 0.9369\n",
            "Epoch 5/75\n",
            "10/10 [==============================] - 0s 13ms/step - loss: 0.3898 - accuracy: 0.9108 - val_loss: 0.3475 - val_accuracy: 0.9356\n",
            "Epoch 6/75\n",
            "10/10 [==============================] - 0s 14ms/step - loss: 0.3713 - accuracy: 0.9247 - val_loss: 0.3448 - val_accuracy: 0.9343\n",
            "Epoch 7/75\n",
            "10/10 [==============================] - 0s 13ms/step - loss: 0.3701 - accuracy: 0.9217 - val_loss: 0.3548 - val_accuracy: 0.9495\n",
            "Epoch 8/75\n",
            "10/10 [==============================] - 0s 12ms/step - loss: 0.3899 - accuracy: 0.9116 - val_loss: 0.3586 - val_accuracy: 0.9407\n",
            "Epoch 9/75\n",
            "10/10 [==============================] - 0s 14ms/step - loss: 0.3775 - accuracy: 0.9205 - val_loss: 0.3496 - val_accuracy: 0.9306\n",
            "Epoch 10/75\n",
            "10/10 [==============================] - 0s 14ms/step - loss: 0.3664 - accuracy: 0.9306 - val_loss: 0.3504 - val_accuracy: 0.9280\n",
            "Epoch 11/75\n",
            "10/10 [==============================] - 0s 14ms/step - loss: 0.3807 - accuracy: 0.9175 - val_loss: 0.3546 - val_accuracy: 0.9444\n",
            "Epoch 12/75\n",
            "10/10 [==============================] - 0s 14ms/step - loss: 0.3714 - accuracy: 0.9297 - val_loss: 0.3430 - val_accuracy: 0.9343\n",
            "Epoch 13/75\n",
            "10/10 [==============================] - 0s 15ms/step - loss: 0.3669 - accuracy: 0.9285 - val_loss: 0.3383 - val_accuracy: 0.9394\n",
            "Epoch 14/75\n",
            "10/10 [==============================] - 0s 14ms/step - loss: 0.3522 - accuracy: 0.9297 - val_loss: 0.3375 - val_accuracy: 0.9520\n",
            "Epoch 15/75\n",
            "10/10 [==============================] - 0s 14ms/step - loss: 0.3532 - accuracy: 0.9356 - val_loss: 0.3338 - val_accuracy: 0.9419\n",
            "Epoch 16/75\n",
            "10/10 [==============================] - 0s 13ms/step - loss: 0.3498 - accuracy: 0.9293 - val_loss: 0.3309 - val_accuracy: 0.9432\n",
            "Epoch 17/75\n",
            "10/10 [==============================] - 0s 14ms/step - loss: 0.3664 - accuracy: 0.9251 - val_loss: 0.3375 - val_accuracy: 0.9419\n",
            "Epoch 18/75\n",
            "10/10 [==============================] - 0s 12ms/step - loss: 0.3679 - accuracy: 0.9230 - val_loss: 0.3269 - val_accuracy: 0.9419\n",
            "Epoch 19/75\n",
            "10/10 [==============================] - 0s 14ms/step - loss: 0.3670 - accuracy: 0.9263 - val_loss: 0.3296 - val_accuracy: 0.9394\n",
            "Epoch 20/75\n",
            "10/10 [==============================] - 0s 15ms/step - loss: 0.3541 - accuracy: 0.9369 - val_loss: 0.3244 - val_accuracy: 0.9457\n",
            "Epoch 21/75\n",
            "10/10 [==============================] - 0s 12ms/step - loss: 0.3652 - accuracy: 0.9230 - val_loss: 0.3284 - val_accuracy: 0.9482\n",
            "Epoch 22/75\n",
            "10/10 [==============================] - 0s 13ms/step - loss: 0.3543 - accuracy: 0.9373 - val_loss: 0.3290 - val_accuracy: 0.9369\n",
            "Epoch 23/75\n",
            "10/10 [==============================] - 0s 14ms/step - loss: 0.3550 - accuracy: 0.9272 - val_loss: 0.3219 - val_accuracy: 0.9470\n",
            "Epoch 24/75\n",
            "10/10 [==============================] - 0s 15ms/step - loss: 0.3515 - accuracy: 0.9301 - val_loss: 0.3225 - val_accuracy: 0.9533\n",
            "Epoch 25/75\n",
            "10/10 [==============================] - 0s 13ms/step - loss: 0.3489 - accuracy: 0.9280 - val_loss: 0.3275 - val_accuracy: 0.9470\n",
            "Epoch 26/75\n",
            "10/10 [==============================] - 0s 13ms/step - loss: 0.3457 - accuracy: 0.9297 - val_loss: 0.3212 - val_accuracy: 0.9495\n",
            "Epoch 27/75\n",
            "10/10 [==============================] - 0s 14ms/step - loss: 0.3464 - accuracy: 0.9352 - val_loss: 0.3285 - val_accuracy: 0.9470\n",
            "Epoch 28/75\n",
            "10/10 [==============================] - 0s 14ms/step - loss: 0.3709 - accuracy: 0.9297 - val_loss: 0.3473 - val_accuracy: 0.9318\n",
            "Epoch 29/75\n",
            "10/10 [==============================] - 0s 14ms/step - loss: 0.3719 - accuracy: 0.9263 - val_loss: 0.3349 - val_accuracy: 0.9369\n",
            "Epoch 30/75\n",
            "10/10 [==============================] - 0s 14ms/step - loss: 0.3617 - accuracy: 0.9230 - val_loss: 0.3275 - val_accuracy: 0.9520\n",
            "Epoch 31/75\n",
            "10/10 [==============================] - 0s 14ms/step - loss: 0.3549 - accuracy: 0.9318 - val_loss: 0.3370 - val_accuracy: 0.9571\n",
            "Epoch 32/75\n",
            "10/10 [==============================] - 0s 14ms/step - loss: 0.3681 - accuracy: 0.9200 - val_loss: 0.3304 - val_accuracy: 0.9520\n",
            "Epoch 33/75\n",
            "10/10 [==============================] - 0s 14ms/step - loss: 0.3473 - accuracy: 0.9285 - val_loss: 0.3221 - val_accuracy: 0.9520\n",
            "Epoch 34/75\n",
            "10/10 [==============================] - 0s 14ms/step - loss: 0.3404 - accuracy: 0.9318 - val_loss: 0.3217 - val_accuracy: 0.9508\n",
            "Epoch 35/75\n",
            "10/10 [==============================] - 0s 16ms/step - loss: 0.3359 - accuracy: 0.9360 - val_loss: 0.3194 - val_accuracy: 0.9432\n",
            "Epoch 36/75\n",
            "10/10 [==============================] - 0s 14ms/step - loss: 0.3419 - accuracy: 0.9348 - val_loss: 0.3246 - val_accuracy: 0.9609\n",
            "Epoch 37/75\n",
            "10/10 [==============================] - 0s 15ms/step - loss: 0.3473 - accuracy: 0.9327 - val_loss: 0.3141 - val_accuracy: 0.9508\n",
            "Epoch 38/75\n",
            "10/10 [==============================] - 0s 14ms/step - loss: 0.3419 - accuracy: 0.9339 - val_loss: 0.3228 - val_accuracy: 0.9407\n",
            "Epoch 39/75\n",
            "10/10 [==============================] - 0s 13ms/step - loss: 0.3390 - accuracy: 0.9339 - val_loss: 0.3166 - val_accuracy: 0.9457\n",
            "Epoch 40/75\n",
            "10/10 [==============================] - 0s 14ms/step - loss: 0.3420 - accuracy: 0.9331 - val_loss: 0.3132 - val_accuracy: 0.9545\n",
            "Epoch 41/75\n",
            "10/10 [==============================] - 0s 14ms/step - loss: 0.3302 - accuracy: 0.9402 - val_loss: 0.3106 - val_accuracy: 0.9571\n",
            "Epoch 42/75\n",
            "10/10 [==============================] - 0s 14ms/step - loss: 0.3358 - accuracy: 0.9381 - val_loss: 0.3199 - val_accuracy: 0.9407\n",
            "Epoch 43/75\n",
            "10/10 [==============================] - 0s 14ms/step - loss: 0.3460 - accuracy: 0.9301 - val_loss: 0.3188 - val_accuracy: 0.9457\n",
            "Epoch 44/75\n",
            "10/10 [==============================] - 0s 14ms/step - loss: 0.3550 - accuracy: 0.9280 - val_loss: 0.3135 - val_accuracy: 0.9596\n",
            "Epoch 45/75\n",
            "10/10 [==============================] - 0s 12ms/step - loss: 0.3489 - accuracy: 0.9339 - val_loss: 0.3242 - val_accuracy: 0.9571\n",
            "Epoch 46/75\n",
            "10/10 [==============================] - 0s 14ms/step - loss: 0.3375 - accuracy: 0.9369 - val_loss: 0.3155 - val_accuracy: 0.9482\n",
            "Epoch 47/75\n",
            "10/10 [==============================] - 0s 13ms/step - loss: 0.3470 - accuracy: 0.9327 - val_loss: 0.3213 - val_accuracy: 0.9432\n",
            "Epoch 48/75\n",
            "10/10 [==============================] - 0s 13ms/step - loss: 0.3410 - accuracy: 0.9314 - val_loss: 0.3070 - val_accuracy: 0.9520\n",
            "Epoch 49/75\n",
            "10/10 [==============================] - 0s 15ms/step - loss: 0.3240 - accuracy: 0.9343 - val_loss: 0.3053 - val_accuracy: 0.9545\n",
            "Epoch 50/75\n",
            "10/10 [==============================] - 0s 14ms/step - loss: 0.3202 - accuracy: 0.9499 - val_loss: 0.3139 - val_accuracy: 0.9508\n",
            "Epoch 51/75\n",
            "10/10 [==============================] - 0s 20ms/step - loss: 0.3348 - accuracy: 0.9373 - val_loss: 0.3042 - val_accuracy: 0.9571\n",
            "Epoch 52/75\n",
            "10/10 [==============================] - 0s 14ms/step - loss: 0.3327 - accuracy: 0.9364 - val_loss: 0.3058 - val_accuracy: 0.9508\n",
            "Epoch 53/75\n",
            "10/10 [==============================] - 0s 17ms/step - loss: 0.3288 - accuracy: 0.9386 - val_loss: 0.3026 - val_accuracy: 0.9545\n",
            "Epoch 54/75\n",
            "10/10 [==============================] - 0s 14ms/step - loss: 0.3314 - accuracy: 0.9327 - val_loss: 0.3082 - val_accuracy: 0.9609\n",
            "Epoch 55/75\n",
            "10/10 [==============================] - 0s 17ms/step - loss: 0.3280 - accuracy: 0.9444 - val_loss: 0.3001 - val_accuracy: 0.9571\n",
            "Epoch 56/75\n",
            "10/10 [==============================] - 0s 13ms/step - loss: 0.3386 - accuracy: 0.9289 - val_loss: 0.3089 - val_accuracy: 0.9571\n",
            "Epoch 57/75\n",
            "10/10 [==============================] - 0s 14ms/step - loss: 0.3560 - accuracy: 0.9238 - val_loss: 0.3169 - val_accuracy: 0.9609\n",
            "Epoch 58/75\n",
            "10/10 [==============================] - 0s 14ms/step - loss: 0.3729 - accuracy: 0.9247 - val_loss: 0.3222 - val_accuracy: 0.9457\n",
            "Epoch 59/75\n",
            "10/10 [==============================] - 0s 16ms/step - loss: 0.3516 - accuracy: 0.9272 - val_loss: 0.3256 - val_accuracy: 0.9470\n",
            "Epoch 60/75\n",
            "10/10 [==============================] - 0s 19ms/step - loss: 0.3496 - accuracy: 0.9293 - val_loss: 0.3164 - val_accuracy: 0.9545\n",
            "Epoch 61/75\n",
            "10/10 [==============================] - 0s 24ms/step - loss: 0.3559 - accuracy: 0.9255 - val_loss: 0.3215 - val_accuracy: 0.9482\n",
            "Epoch 62/75\n",
            "10/10 [==============================] - 0s 22ms/step - loss: 0.3493 - accuracy: 0.9335 - val_loss: 0.3082 - val_accuracy: 0.9545\n",
            "Epoch 63/75\n",
            "10/10 [==============================] - 0s 20ms/step - loss: 0.3377 - accuracy: 0.9377 - val_loss: 0.3082 - val_accuracy: 0.9583\n",
            "Epoch 64/75\n",
            "10/10 [==============================] - 0s 21ms/step - loss: 0.3349 - accuracy: 0.9402 - val_loss: 0.3052 - val_accuracy: 0.9621\n",
            "Epoch 65/75\n",
            "10/10 [==============================] - 0s 27ms/step - loss: 0.3358 - accuracy: 0.9369 - val_loss: 0.3032 - val_accuracy: 0.9571\n",
            "Epoch 66/75\n",
            "10/10 [==============================] - 0s 21ms/step - loss: 0.3249 - accuracy: 0.9411 - val_loss: 0.3037 - val_accuracy: 0.9571\n",
            "Epoch 67/75\n",
            "10/10 [==============================] - 0s 22ms/step - loss: 0.3382 - accuracy: 0.9369 - val_loss: 0.3022 - val_accuracy: 0.9558\n",
            "Epoch 68/75\n",
            "10/10 [==============================] - 0s 24ms/step - loss: 0.3220 - accuracy: 0.9465 - val_loss: 0.3021 - val_accuracy: 0.9571\n",
            "Epoch 69/75\n",
            "10/10 [==============================] - 0s 19ms/step - loss: 0.3307 - accuracy: 0.9402 - val_loss: 0.3061 - val_accuracy: 0.9545\n",
            "Epoch 70/75\n",
            "10/10 [==============================] - 0s 22ms/step - loss: 0.3462 - accuracy: 0.9335 - val_loss: 0.3080 - val_accuracy: 0.9533\n",
            "Epoch 71/75\n",
            "10/10 [==============================] - 0s 23ms/step - loss: 0.3396 - accuracy: 0.9331 - val_loss: 0.3008 - val_accuracy: 0.9596\n",
            "Epoch 72/75\n",
            "10/10 [==============================] - 0s 19ms/step - loss: 0.3330 - accuracy: 0.9394 - val_loss: 0.3093 - val_accuracy: 0.9533\n",
            "Epoch 73/75\n",
            "10/10 [==============================] - 0s 21ms/step - loss: 0.3323 - accuracy: 0.9386 - val_loss: 0.3110 - val_accuracy: 0.9508\n",
            "Epoch 74/75\n",
            "10/10 [==============================] - 0s 21ms/step - loss: 0.3404 - accuracy: 0.9306 - val_loss: 0.3031 - val_accuracy: 0.9609\n",
            "Epoch 75/75\n",
            "10/10 [==============================] - 0s 21ms/step - loss: 0.3389 - accuracy: 0.9360 - val_loss: 0.3031 - val_accuracy: 0.9533\n"
          ]
        }
      ],
      "id": "o4EwkdFYqtQW"
    },
    {
      "cell_type": "code",
      "source": [
        "score_2 = model_2.evaluate(x_test, y_test, verbose=0)\n",
        "print('Test loss:', score_2[0])\n",
        "print('Test accuracy:', score_2[1])"
      ],
      "metadata": {
        "colab": {
          "base_uri": "https://localhost:8080/"
        },
        "outputId": "a109ac14-7e28-4aaa-e581-115544e9ab74",
        "id": "HobHGId6qtQW"
      },
      "execution_count": null,
      "outputs": [
        {
          "output_type": "stream",
          "name": "stdout",
          "text": [
            "Test loss: 0.303088515996933\n",
            "Test accuracy: 0.9532828330993652\n"
          ]
        }
      ],
      "id": "HobHGId6qtQW"
    },
    {
      "cell_type": "code",
      "source": [
        "plot_loss_accuracy(hist_2)"
      ],
      "metadata": {
        "colab": {
          "base_uri": "https://localhost:8080/",
          "height": 545
        },
        "outputId": "efc46644-bb3a-4016-8337-93800b0f2fea",
        "id": "LUf1lj0TqtQW"
      },
      "execution_count": null,
      "outputs": [
        {
          "output_type": "display_data",
          "data": {
            "text/plain": [
              "<Figure size 1200x600 with 2 Axes>"
            ],
            "image/png": "[encoded data removed]"
          },
          "metadata": {}
        }
      ],
      "id": "LUf1lj0TqtQW"
    },
    {
      "cell_type": "code",
      "source": [],
      "metadata": {
        "id": "WVIo5G7xkckG"
      },
      "execution_count": null,
      "outputs": [],
      "id": "WVIo5G7xkckG"
    },
    {
      "cell_type": "markdown",
      "id": "classified-campaign",
      "metadata": {
        "id": "classified-campaign"
      },
      "source": [
        "#### Conclusion"
      ]
    },
    {
      "cell_type": "markdown",
      "id": "relevant-thunder",
      "metadata": {
        "id": "relevant-thunder"
      },
      "source": [
        "#type your answer here"
      ]
    },
    {
      "cell_type": "code",
      "execution_count": null,
      "id": "interracial-satellite",
      "metadata": {
        "id": "interracial-satellite"
      },
      "outputs": [],
      "source": []
    }
  ],
  "metadata": {
    "kernelspec": {
      "display_name": "Python 3",
      "language": "python",
      "name": "python3"
    },
    "language_info": {
      "codemirror_mode": {
        "name": "ipython",
        "version": 3
      },
      "file_extension": ".py",
      "mimetype": "text/x-python",
      "name": "python",
      "nbconvert_exporter": "python",
      "pygments_lexer": "ipython3",
      "version": "3.7.10"
    },
    "colab": {
      "provenance": []
    }
  },
  "nbformat": 4,
  "nbformat_minor": 5
}