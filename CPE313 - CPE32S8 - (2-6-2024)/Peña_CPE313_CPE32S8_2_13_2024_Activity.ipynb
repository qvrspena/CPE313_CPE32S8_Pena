{
  "nbformat": 4,
  "nbformat_minor": 0,
  "metadata": {
    "colab": {
      "provenance": []
    },
    "kernelspec": {
      "name": "python3",
      "display_name": "Python 3"
    },
    "language_info": {
      "name": "python"
    }
  },
  "cells": [
    {
      "cell_type": "code",
      "execution_count": null,
      "metadata": {
        "colab": {
          "base_uri": "https://localhost:8080/"
        },
        "id": "HqNUciq2NQ-R",
        "outputId": "7f1e398e-0e56-416a-f795-e6c406e3968b"
      },
      "outputs": [
        {
          "output_type": "stream",
          "name": "stdout",
          "text": [
            "Mounted at /content/drive\n"
          ]
        }
      ],
      "source": [
        "from google.colab import drive\n",
        "drive.mount('/content/drive')"
      ]
    },
    {
      "cell_type": "code",
      "source": [
        "import os\n",
        "import matplotlib.pyplot as plt"
      ],
      "metadata": {
        "id": "ERFElB-pRnbS"
      },
      "execution_count": null,
      "outputs": []
    },
    {
      "cell_type": "code",
      "source": [
        "from graphviz import Digraph"
      ],
      "metadata": {
        "id": "3wA8_EWIN0Yi"
      },
      "execution_count": 33,
      "outputs": []
    },
    {
      "cell_type": "code",
      "source": [
        "import random"
      ],
      "metadata": {
        "id": "tc4x7LM6User"
      },
      "execution_count": 34,
      "outputs": []
    },
    {
      "cell_type": "markdown",
      "source": [
        "# Creation of Class Neuron"
      ],
      "metadata": {
        "id": "z8keEUvaNRe7"
      }
    },
    {
      "cell_type": "code",
      "source": [
        "class Neuron:\n",
        "    def __init__(self, input, weight):\n",
        "      self.input = input\n",
        "      self.weight = weight\n",
        "\n",
        "    def adder(self):\n",
        "      sum = 0\n",
        "\n",
        "      for i in range(len(self.input)):\n",
        "\n",
        "        sum += self.input[i] * self.weight[i]\n",
        "\n",
        "      return sum\n",
        "\n",
        "    def relu(self):\n",
        "      output = self.adder()\n",
        "      if output <= 0:\n",
        "        return 0\n",
        "      else:\n",
        "        return output"
      ],
      "metadata": {
        "id": "A5W5Qp0kNT0x"
      },
      "execution_count": 35,
      "outputs": []
    },
    {
      "cell_type": "markdown",
      "source": [
        "# Single Neuron"
      ],
      "metadata": {
        "id": "FWKmSEQiNVka"
      }
    },
    {
      "cell_type": "code",
      "source": [
        "test_1 = Neuron([1, 0], [2, 3])\n",
        "test_2 = Neuron([1, -1], [2, 3])\n",
        "test_3 = Neuron([-3, 6], [4, 2])\n",
        "\n",
        "print(\"Test 1:\")\n",
        "print('\\tAdder:\\t', test_1.adder())\n",
        "print('\\tReLu Output:\\t', test_1.relu())\n",
        "\n",
        "print(\"\\nTest 2:\")\n",
        "print('\\tAdder:\\t', test_2.adder())\n",
        "print('\\tReLu Output:\\t', test_2.relu())\n",
        "\n",
        "print(\"\\nTest 3:\")\n",
        "print('\\tAdder:\\t', test_3.adder())\n",
        "print('\\tReLu Output:\\t', test_3.relu())"
      ],
      "metadata": {
        "colab": {
          "base_uri": "https://localhost:8080/"
        },
        "id": "CCvzXocENU-b",
        "outputId": "a41c9301-cb89-47cf-a0ab-50749d60718c"
      },
      "execution_count": 36,
      "outputs": [
        {
          "output_type": "stream",
          "name": "stdout",
          "text": [
            "Test 1:\n",
            "\tAdder:\t 2\n",
            "\tReLu Output:\t 2\n",
            "\n",
            "Test 2:\n",
            "\tAdder:\t -1\n",
            "\tReLu Output:\t 0\n",
            "\n",
            "Test 3:\n",
            "\tAdder:\t 0\n",
            "\tReLu Output:\t 0\n"
          ]
        }
      ]
    },
    {
      "cell_type": "code",
      "source": [],
      "metadata": {
        "id": "X5YkPAkadJz1"
      },
      "execution_count": null,
      "outputs": []
    },
    {
      "cell_type": "markdown",
      "source": [
        "#Multiple Neuron"
      ],
      "metadata": {
        "id": "DvJYTl-yaPir"
      }
    },
    {
      "cell_type": "code",
      "source": [
        "input = [5, 6, 7, 8, 9]\n",
        "weights = [1, 3, 5, 7, 9]\n",
        "\n",
        "outlayer_in = []\n"
      ],
      "metadata": {
        "id": "LEdSIWNYaVzr"
      },
      "execution_count": 41,
      "outputs": []
    },
    {
      "cell_type": "code",
      "source": [
        "n1 = Neuron(input, weights)\n",
        "outlayer_in.append(n1.relu())\n",
        "\n",
        "n2 = Neuron(input, weights)\n",
        "outlayer_in.append(n2.relu())\n",
        "\n",
        "n3 = Neuron(input, weights)\n",
        "outlayer_in.append(n3.relu())"
      ],
      "metadata": {
        "id": "9LB8tg1xaYmT"
      },
      "execution_count": 42,
      "outputs": []
    },
    {
      "cell_type": "code",
      "source": [
        "print('Inputs:\\t', n1.input)\n",
        "print('Weights:', n1.weight)\n",
        "print('Adder:\\t', n1.adder())\n",
        "print('ReLu Output:\\t', n1.relu())"
      ],
      "metadata": {
        "colab": {
          "base_uri": "https://localhost:8080/"
        },
        "id": "trVesCPYa1gs",
        "outputId": "a51695ca-8cc0-4821-f898-8eef9eb6ee56"
      },
      "execution_count": 43,
      "outputs": [
        {
          "output_type": "stream",
          "name": "stdout",
          "text": [
            "Inputs:\t [5, 6, 7, 8, 9]\n",
            "Weights: [1, 3, 5, 7, 9]\n",
            "Adder:\t 195\n",
            "ReLu Output:\t 195\n"
          ]
        }
      ]
    },
    {
      "cell_type": "code",
      "source": [
        "output = Neuron(outlayer_in, random.sample(range(-10, 10), 3))\n",
        "\n",
        "print(\"output:\")\n",
        "print('Inputs:\\t', output.input)\n",
        "print('Weights:', output.weight)\n",
        "print('Adder:\\t', output.adder())\n",
        "print('ReLu Output: ', output.relu())"
      ],
      "metadata": {
        "colab": {
          "base_uri": "https://localhost:8080/"
        },
        "id": "2qV07i_tal6r",
        "outputId": "e58320ee-bfba-4703-98ff-914bf2f8dd5c"
      },
      "execution_count": 44,
      "outputs": [
        {
          "output_type": "stream",
          "name": "stdout",
          "text": [
            "output:\n",
            "Inputs:\t [195, 195, 195]\n",
            "Weights: [6, -8, 2]\n",
            "Adder:\t 0\n",
            "ReLu Output:  0\n"
          ]
        }
      ]
    },
    {
      "cell_type": "code",
      "source": [
        "output = Neuron(outlayer_in, random.sample(range(-2, 10), 3))\n",
        "\n",
        "print(\"output:\")\n",
        "print('Inputs:\\t', output.input)\n",
        "print('Weights:', output.weight)\n",
        "print('Adder:\\t', output.adder())\n",
        "print('ReLu Output: ', output.relu())"
      ],
      "metadata": {
        "colab": {
          "base_uri": "https://localhost:8080/"
        },
        "id": "tsQUuWJAa7NM",
        "outputId": "8c8c8ded-1008-46ed-83d5-1786b32dc3ef"
      },
      "execution_count": 45,
      "outputs": [
        {
          "output_type": "stream",
          "name": "stdout",
          "text": [
            "output:\n",
            "Inputs:\t [195, 195, 195]\n",
            "Weights: [-1, 7, 9]\n",
            "Adder:\t 2925\n",
            "ReLu Output:  2925\n"
          ]
        }
      ]
    },
    {
      "cell_type": "markdown",
      "source": [
        "# Multiple Neuron (5 inputs, 5 neurons)"
      ],
      "metadata": {
        "id": "EPsixbQ4a-i0"
      }
    },
    {
      "cell_type": "code",
      "source": [
        "outlayer_in = []\n",
        "\n",
        "n1 = Neuron(input, weights)\n",
        "outlayer_in.append(n1.relu())\n",
        "\n",
        "n2 = Neuron(input, weights)\n",
        "outlayer_in.append(n2.relu())\n",
        "\n",
        "n3 = Neuron(input, weights)\n",
        "outlayer_in.append(n3.relu())\n",
        "\n",
        "n4 = Neuron(input, weights)\n",
        "outlayer_in.append(n4.relu())\n",
        "\n",
        "n5 = Neuron(input, weights)\n",
        "outlayer_in.append(n5.relu())"
      ],
      "metadata": {
        "id": "qTtDZJkea8Qc"
      },
      "execution_count": 59,
      "outputs": []
    },
    {
      "cell_type": "code",
      "source": [
        "output = Neuron(outlayer_in, random.sample(range(-10, 10), len(outlayer_in)))\n",
        "\n",
        "print(\"output:\")\n",
        "print('Inputs:\\t', output.input)\n",
        "print('Weights:', output.weight)\n",
        "print('Adder:\\t', output.adder())\n",
        "print('ReLu Output: ', output.relu())"
      ],
      "metadata": {
        "colab": {
          "base_uri": "https://localhost:8080/"
        },
        "id": "pZBKykTKbG5b",
        "outputId": "69c38dae-84f5-4ceb-c1a7-ef34539b116a"
      },
      "execution_count": 60,
      "outputs": [
        {
          "output_type": "stream",
          "name": "stdout",
          "text": [
            "output:\n",
            "Inputs:\t [195, 195, 195, 195, 195]\n",
            "Weights: [-4, 9, 5, 3, -1]\n",
            "Adder:\t 2340\n",
            "ReLu Output:  2340\n"
          ]
        }
      ]
    },
    {
      "cell_type": "code",
      "source": [
        "output = Neuron(outlayer_in, random.sample(range(-10, 10), len(outlayer_in)))\n",
        "\n",
        "print(\"output:\")\n",
        "print('Inputs:\\t', output.input)\n",
        "print('Weights:', output.weight)\n",
        "print('Adder:\\t', output.adder())\n",
        "print('ReLu Output: ', output.relu())"
      ],
      "metadata": {
        "colab": {
          "base_uri": "https://localhost:8080/"
        },
        "id": "wtoT8tPKbL0r",
        "outputId": "c24c4210-15c8-4572-d349-61a228949962"
      },
      "execution_count": 61,
      "outputs": [
        {
          "output_type": "stream",
          "name": "stdout",
          "text": [
            "output:\n",
            "Inputs:\t [195, 195, 195, 195, 195]\n",
            "Weights: [-6, -7, -5, 5, 9]\n",
            "Adder:\t -780\n",
            "ReLu Output:  0\n"
          ]
        }
      ]
    },
    {
      "cell_type": "markdown",
      "source": [
        "# Multiple Neuron (5 inputs, 10 neurons)"
      ],
      "metadata": {
        "id": "BHtqKOjYbCsr"
      }
    },
    {
      "cell_type": "code",
      "source": [
        "outlayer_in = []\n",
        "\n",
        "n1 = Neuron(input, weights)\n",
        "outlayer_in.append(n1.relu())\n",
        "\n",
        "n2 = Neuron(input, weights)\n",
        "outlayer_in.append(n2.relu())\n",
        "\n",
        "n3 = Neuron(input, weights)\n",
        "outlayer_in.append(n3.relu())\n",
        "\n",
        "n4 = Neuron(input, weights)\n",
        "outlayer_in.append(n4.relu())\n",
        "\n",
        "n5 = Neuron(input, weights)\n",
        "outlayer_in.append(n5.relu())\n",
        "\n",
        "n6 = Neuron(input, weights)\n",
        "outlayer_in.append(n6.relu())\n",
        "\n",
        "n7 = Neuron(input, weights)\n",
        "outlayer_in.append(n7.relu())\n",
        "\n",
        "n8 = Neuron(input, weights)\n",
        "outlayer_in.append(n8.relu())\n",
        "\n",
        "n9 = Neuron(input, weights)\n",
        "outlayer_in.append(n9.relu())\n",
        "\n",
        "n10 = Neuron(input, weights)\n",
        "outlayer_in.append(n10.relu())"
      ],
      "metadata": {
        "id": "ZPSrg7AibCsr"
      },
      "execution_count": 62,
      "outputs": []
    },
    {
      "cell_type": "code",
      "source": [
        "output = Neuron(outlayer_in, random.sample(range(-10, 10), len(outlayer_in)))\n",
        "\n",
        "print(\"output:\")\n",
        "print('Inputs:\\t', output.input)\n",
        "print('Weights:', output.weight)\n",
        "print('Adder:\\t', output.adder())\n",
        "print('ReLu Output: ', output.relu())"
      ],
      "metadata": {
        "colab": {
          "base_uri": "https://localhost:8080/"
        },
        "id": "nPHg1wELbT_v",
        "outputId": "d95ced27-6400-4a92-a424-09a842c39207"
      },
      "execution_count": 64,
      "outputs": [
        {
          "output_type": "stream",
          "name": "stdout",
          "text": [
            "output:\n",
            "Inputs:\t [195, 195, 195, 195, 195, 195, 195, 195, 195, 195]\n",
            "Weights: [4, -1, -10, -3, 3, 9, -8, -4, 1, 6]\n",
            "Adder:\t -585\n",
            "ReLu Output:  0\n"
          ]
        }
      ]
    },
    {
      "cell_type": "code",
      "source": [
        "output = Neuron(outlayer_in, random.sample(range(-10, 10), len(outlayer_in)))\n",
        "\n",
        "print(\"output:\")\n",
        "print('Inputs:\\t', output.input)\n",
        "print('Weights:', output.weight)\n",
        "print('Adder:\\t', output.adder())\n",
        "print('ReLu Output: ', output.relu())"
      ],
      "metadata": {
        "colab": {
          "base_uri": "https://localhost:8080/"
        },
        "id": "jvH9Vd2fbVLe",
        "outputId": "3a1807f3-b14f-4325-f330-9ea8764c3200"
      },
      "execution_count": 68,
      "outputs": [
        {
          "output_type": "stream",
          "name": "stdout",
          "text": [
            "output:\n",
            "Inputs:\t [195, 195, 195, 195, 195, 195, 195, 195, 195, 195]\n",
            "Weights: [2, 6, -3, 7, 3, 4, 0, -8, 1, 8]\n",
            "Adder:\t 3900\n",
            "ReLu Output:  3900\n"
          ]
        }
      ]
    },
    {
      "cell_type": "code",
      "source": [],
      "metadata": {
        "id": "fHfZI-HqbWC_"
      },
      "execution_count": 65,
      "outputs": []
    }
  ]
}